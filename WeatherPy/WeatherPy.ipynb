{
 "cells": [
  {
   "cell_type": "markdown",
   "metadata": {},
   "source": [
    "# WeatherPy\n",
    "----\n",
    "\n",
    "#### Note\n",
    "* Instructions have been included for each segment. You do not have to follow them exactly, but they are included to help you think through the steps."
   ]
  },
  {
   "cell_type": "code",
   "execution_count": 3,
   "metadata": {
    "scrolled": true
   },
   "outputs": [],
   "source": [
    "import matplotlib.pyplot as plt\n",
    "import requests\n",
    "import pandas as pd\n",
    "import numpy as np\n",
    "import os\n",
    "from pprint import pprint\n",
    "from citipy import citipy\n",
    "from config import api_key\n",
    "from sklearn import datasets\n",
    "from scipy.stats import linregress"
   ]
  },
  {
   "cell_type": "markdown",
   "metadata": {},
   "source": [
    "## Generate Cities List"
   ]
  },
  {
   "cell_type": "code",
   "execution_count": 4,
   "metadata": {},
   "outputs": [],
   "source": [
    "# Set Variable and lists\n",
    "counter = 0\n",
    "rndlat=[]\n",
    "rndlon=[]\n",
    "\n",
    "#Finds Latitude and Longitude for 600 randomly generated coordinates to allow for missing cities in API\n",
    "while len(rndlat) < 600:\n",
    "    lat = np.random.uniform(-90, 90)\n",
    "    lon = np.random.uniform(-180,180)\n",
    "    rndlat.append(lat)\n",
    "    rndlon.append(lon)\n",
    "    counter += 1 \n",
    "\n",
    "#Create DataFrame of random coordinates\n",
    "geo_df = pd.DataFrame ({\"lat\": rndlat, \"lon\":rndlon})\n",
    "geo_df.head()\n",
    "\n",
    "#Create Empty lists for city\n",
    "cities = []\n",
    "country = []\n",
    "\n",
    "#Loop through coordinates and find the nearest city's weather data\n",
    "for index, row in geo_df.iterrows():\n",
    "    city_lat=(row[\"lat\"])\n",
    "    city_lon=(row[\"lon\"])\n",
    "    city_name = citipy.nearest_city(city_lat, city_lon).city_name\n",
    "    country_code = citipy.nearest_city(city_lat, city_lon).country_code\n",
    "    cities.append(str(city_name))\n",
    "    country.append(country_code)"
   ]
  },
  {
   "cell_type": "markdown",
   "metadata": {},
   "source": [
    "### Perform API Calls\n",
    "* Perform a weather check on each city using a series of successive API calls.\n",
    "* Include a print log of each city as it'sbeing processed (with the city number and city name).\n"
   ]
  },
  {
   "cell_type": "code",
   "execution_count": 5,
   "metadata": {},
   "outputs": [
    {
     "name": "stdout",
     "output_type": "stream",
     "text": [
      "http://api.openweathermap.org/data/2.5/weather?appid=a6ec59617cbd1356d63a167852913fae&units=imperial&q=mazagao\n"
     ]
    }
   ],
   "source": [
    "# Save config information.\n",
    "url = \"http://api.openweathermap.org/data/2.5/weather?\"\n",
    "units = \"imperial\"\n",
    "\n",
    "\n",
    "query_url = f\"{url}appid={api_key}&units={units}&q=\"\n",
    "print(query_url + cities[0])"
   ]
  },
  {
   "cell_type": "code",
   "execution_count": 6,
   "metadata": {
    "scrolled": true
   },
   "outputs": [
    {
     "name": "stdout",
     "output_type": "stream",
     "text": [
      "Beginning Data Retrieval\n",
      "-----------------------------\n",
      "\n",
      "For mazagao with ID number3395042\n",
      "For ushuaia with ID number3833367\n",
      "For atuona with ID number4020109\n",
      "For george with ID number1002145\n",
      "For tasiilaq with ID number3424607\n",
      "For bluff with ID number2206939\n",
      "For carnarvon with ID number2074865\n",
      "For atuona with ID number4020109\n",
      "For okhotsk with ID number2122605\n",
      "For ushuaia with ID number3833367\n",
      "For thompson with ID number6165406\n",
      "For ribeira grande with ID number3372707\n",
      "For sola with ID number2134814\n",
      "For quelimane with ID number1028434\n",
      "For ucluelet with ID number6171633\n",
      "For bredasdorp with ID number1015776\n",
      "For ushuaia with ID number3833367\n",
      "For kochevo with ID number546845\n",
      "For mount isa with ID number2065594\n",
      "For tuktoyaktuk with ID number6170031\n",
      "For new norfolk with ID number2155415\n",
      "For presidencia roque saenz pena with ID number3840300\n",
      "For kochki with ID number1503061\n",
      "For ushuaia with ID number3833367\n",
      "For hermanus with ID number3366880\n",
      "For emerald with ID number2167426\n",
      "For salekhard with ID number1493197\n",
      "For albany with ID number5106841\n",
      "For punta arenas with ID number3874787\n",
      "For torbay with ID number6167817\n",
      "For dubbo with ID number2168305\n",
      "For port elizabeth with ID number964420\n",
      "For anori with ID number3665315\n",
      "For surt with ID number2210554\n",
      "For kapaa with ID number5848280\n",
      "For hermanus with ID number3366880\n",
      "For busselton with ID number2075265\n",
      "For ushuaia with ID number3833367\n",
      "For rikitea with ID number4030556\n",
      "For georgetown with ID number1735106\n",
      "For oranjemund with ID number3354071\n",
      "For chlorakas with ID number146490\n",
      "For punta arenas with ID number3874787\n",
      "For tuktoyaktuk with ID number6170031\n",
      "For albany with ID number5106841\n",
      "For dunedin with ID number2191562\n",
      "For norman wells with ID number6089245\n",
      "For nizhniy baskunchak with ID number520798\n",
      "For rapid valley with ID number5768244\n",
      "For fondi with ID number6541136\n",
      "For dubti with ID number338554\n",
      "For hilo with ID number5855927\n",
      "For haines junction with ID number5969025\n",
      "For ancud with ID number3899695\n",
      "For bejar with ID number3128382\n",
      "For hurup with ID number2619624\n",
      "For hermanus with ID number3366880\n",
      "For port elizabeth with ID number964420\n",
      "For abha with ID number110690\n",
      "For ponta do sol with ID number2264557\n",
      "For mar del plata with ID number3430863\n",
      "For salinopolis with ID number3389822\n",
      "For sorland with ID number3137469\n",
      "For vaini with ID number4032243\n",
      "For woodburn with ID number5761708\n",
      "For khandyga with ID number2022773\n",
      "For arraial do cabo with ID number3471451\n",
      "For yellowknife with ID number6185377\n",
      "For tambopata with ID number3927942\n",
      "For esperance with ID number2071860\n",
      "For qaanaaq with ID number3831208\n",
      "For pangai with ID number4032369\n",
      "For jamestown with ID number5122534\n",
      "For ushuaia with ID number3833367\n",
      "For clyde river with ID number5924351\n",
      "For arusha with ID number161325\n",
      "For bluff with ID number2206939\n",
      "For lanzhou with ID number1804430\n",
      "For bathsheba with ID number3374083\n",
      "For san patricio with ID number3985168\n",
      "For herat with ID number1140025\n",
      "For albany with ID number5106841\n",
      "For jumla with ID number1283285\n",
      "For sorland with ID number3137469\n",
      "For hamirpur with ID number1270455\n",
      "For havre-saint-pierre with ID number5972291\n",
      "For hithadhoo with ID number1282256\n",
      "For mbengwi with ID number2227853\n",
      "For luanda with ID number2240449\n",
      "For rikitea with ID number4030556\n",
      "For puerto ayora with ID number3652764\n",
      "For butaritari with ID number2110227\n",
      "For jumla with ID number1283285\n",
      "For yumen with ID number1528998\n",
      "For punta arenas with ID number3874787\n",
      "For hilo with ID number5855927\n",
      "For new norfolk with ID number2155415\n",
      "For thompson with ID number6165406\n",
      "For busselton with ID number2075265\n",
      "For marzuq with ID number72181\n",
      "For busselton with ID number2075265\n",
      "For cap malheureux with ID number934649\n",
      "For albany with ID number5106841\n",
      "For aguas formosas with ID number3472864\n",
      "For lavrentiya with ID number4031637\n",
      "For coquimbo with ID number3893629\n",
      "For bluff with ID number2206939\n",
      "For rocha with ID number3440777\n",
      "For maniitsoq with ID number3421982\n",
      "For ust-uda with ID number2013865\n",
      "For albany with ID number5106841\n",
      "For busselton with ID number2075265\n",
      "For avarua with ID number4035715\n",
      "For kapaa with ID number5848280\n",
      "For kloulklubed with ID number7671223\n",
      "For hermanus with ID number3366880\n",
      "For myitkyina with ID number1307741\n",
      "For rikitea with ID number4030556\n",
      "For arawa with ID number2100633\n",
      "For collie with ID number2074113\n",
      "For khatanga with ID number2022572\n",
      "For bosaso with ID number64013\n",
      "For henties bay with ID number3356832\n",
      "For bethel with ID number5282297\n",
      "For camacha with ID number2270385\n",
      "For kavaratti with ID number1267390\n",
      "For khatanga with ID number2022572\n",
      "For jamestown with ID number5122534\n",
      "For punta arenas with ID number3874787\n",
      "For san cristobal with ID number3628473\n",
      "For punta arenas with ID number3874787\n",
      "For qaqortoq with ID number3420846\n",
      "For dikson with ID number1507390\n",
      "For rikitea with ID number4030556\n",
      "For talavera with ID number1684019\n",
      "For butaritari with ID number2110227\n",
      "For saint anthony with ID number5044290\n",
      "For east london with ID number1006984\n",
      "For adrar with ID number2381972\n",
      "For cherskiy with ID number2126199\n",
      "For busselton with ID number2075265\n",
      "For katsuura with ID number2112309\n",
      "For bambous virieux with ID number1106677\n",
      "For ajaccio with ID number3038333\n",
      "For bluff with ID number2206939\n",
      "For tonekabon with ID number112656\n",
      "For punta arenas with ID number3874787\n",
      "For bakchar with ID number1511057\n",
      "For tiksi with ID number2015306\n",
      "For biak with ID number1637001\n",
      "For ushuaia with ID number3833367\n",
      "For nikolskoye with ID number546105\n",
      "For rikitea with ID number4030556\n",
      "For ribeira grande with ID number3372707\n",
      "For dingle with ID number1714733\n",
      "For nikolskoye with ID number546105\n",
      "For kruisfontein with ID number986717\n",
      "For berlevag with ID number780687\n",
      "For jamestown with ID number5122534\n",
      "For high prairie with ID number5975034\n",
      "For bethel with ID number5282297\n",
      "For rikitea with ID number4030556\n",
      "For farafangana with ID number1065158\n",
      "For businga with ID number217637\n",
      "For tiksi with ID number2015306\n",
      "For ushuaia with ID number3833367\n",
      "For chokurdakh with ID number2126123\n",
      "For manicore with ID number3663503\n",
      "For sobolevo with ID number525426\n",
      "For grand gaube with ID number934479\n",
      "For bredasdorp with ID number1015776\n",
      "For barrow with ID number5880054\n",
      "For bredasdorp with ID number1015776\n",
      "For rikitea with ID number4030556\n",
      "For busselton with ID number2075265\n",
      "For alugan with ID number1731248\n",
      "For portland with ID number5746545\n",
      "For sarakhs with ID number1159716\n",
      "For kodiak with ID number5866583\n",
      "For monrovia with ID number2274895\n",
      "For albany with ID number5106841\n",
      "For vila velha with ID number3445026\n",
      "For kaputa with ID number176758\n",
      "For luba with ID number2309528\n",
      "For khatanga with ID number2022572\n",
      "For itarema with ID number3393692\n",
      "For mataura with ID number6201424\n",
      "For rikitea with ID number4030556\n",
      "For xapuri with ID number3924674\n",
      "For bredasdorp with ID number1015776\n",
      "For jieshi with ID number1805857\n",
      "For rikitea with ID number4030556\n",
      "For rikitea with ID number4030556\n",
      "For hermanus with ID number3366880\n",
      "For saint-philippe with ID number935215\n",
      "For punta arenas with ID number3874787\n",
      "For hobart with ID number2163355\n",
      "For atuona with ID number4020109\n",
      "For punta arenas with ID number3874787\n",
      "For bluff with ID number2206939\n",
      "For butaritari with ID number2110227\n",
      "For eregli with ID number315498\n",
      "For fairbanks with ID number5861897\n",
      "For yumen with ID number1528998\n",
      "For sumbe with ID number3346015\n",
      "For kawalu with ID number1640902\n",
      "For barrow with ID number5880054\n",
      "For los arabos with ID number3549463\n",
      "For bredasdorp with ID number1015776\n",
      "For mataura with ID number6201424\n",
      "For don sak with ID number1116760\n",
      "For yulara with ID number6355222\n",
      "For saint-philippe with ID number935215\n",
      "For siteki with ID number934851\n",
      "For dikson with ID number1507390\n",
      "For namibe with ID number3347019\n",
      "For hermanus with ID number3366880\n",
      "For albany with ID number5106841\n",
      "For arraial do cabo with ID number3471451\n",
      "For vaini with ID number4032243\n",
      "For kapaa with ID number5848280\n",
      "For isangel with ID number2136825\n",
      "For atar with ID number2381334\n",
      "For kavaratti with ID number1267390\n",
      "For albany with ID number5106841\n",
      "For san cristobal with ID number3628473\n",
      "For qaanaaq with ID number3831208\n",
      "For smolyaninovo with ID number2016402\n",
      "For panguna with ID number2088659\n",
      "For faanui with ID number4034551\n",
      "For mar del plata with ID number3430863\n",
      "For la orilla with ID number4001056\n"
     ]
    },
    {
     "name": "stdout",
     "output_type": "stream",
     "text": [
      "For baisha with ID number1817446\n",
      "For ponta do sol with ID number2264557\n",
      "For mataura with ID number6201424\n",
      "For georgetown with ID number1735106\n",
      "For melilla with ID number2513947\n",
      "For jamestown with ID number5122534\n",
      "For tam ky with ID number1567148\n",
      "For pisco with ID number3932145\n",
      "For yellowknife with ID number6185377\n",
      "For tiksi with ID number2015306\n",
      "For anadyr with ID number2127202\n",
      "For ladario with ID number3459352\n",
      "For mataura with ID number6201424\n",
      "For albany with ID number5106841\n",
      "For provideniya with ID number4031574\n",
      "For kingaroy with ID number2161376\n",
      "For upernavik with ID number3418910\n",
      "For asyut with ID number359783\n",
      "For balvi with ID number461163\n",
      "For baijiantan with ID number1529626\n",
      "For alofi with ID number4036284\n",
      "For golden with ID number5423294\n",
      "For rikitea with ID number4030556\n",
      "For hilo with ID number5855927\n",
      "For ushuaia with ID number3833367\n",
      "For shimoda with ID number1852357\n",
      "For san benito with ID number3590389\n",
      "For mataura with ID number6201424\n",
      "For hilo with ID number5855927\n",
      "For jamestown with ID number5122534\n",
      "For bredasdorp with ID number1015776\n",
      "For bredy with ID number1508811\n",
      "For bengkulu with ID number1649150\n",
      "For vaini with ID number4032243\n",
      "For hithadhoo with ID number1282256\n",
      "For khandyga with ID number2022773\n",
      "For ribeira grande with ID number3372707\n",
      "For constitucion with ID number3893726\n",
      "For nikolskoye with ID number546105\n",
      "For coihaique with ID number3894426\n",
      "For dikson with ID number1507390\n",
      "For sinnai with ID number6539309\n",
      "For inhambane with ID number1045114\n",
      "For codrington with ID number2171099\n",
      "For albany with ID number5106841\n",
      "For the valley with ID number3573374\n",
      "For jumla with ID number1283285\n",
      "For rikitea with ID number4030556\n",
      "For port elizabeth with ID number964420\n",
      "For san cristobal with ID number3628473\n",
      "For abu dhabi with ID number292968\n",
      "For carnarvon with ID number2074865\n",
      "For new norfolk with ID number2155415\n",
      "For lebu with ID number3883457\n",
      "For mikhaylovka with ID number527012\n",
      "For katherine with ID number2068655\n",
      "For paracuru with ID number3393115\n",
      "For hithadhoo with ID number1282256\n",
      "For lompoc with ID number5367788\n",
      "For puerto ayora with ID number3652764\n",
      "For vao with ID number2137773\n",
      "For pisco with ID number3932145\n",
      "For jamestown with ID number5122534\n",
      "For hithadhoo with ID number1282256\n",
      "For dikson with ID number1507390\n",
      "For san quintin with ID number3984997\n",
      "For lorengau with ID number2092164\n",
      "For saint-philippe with ID number935215\n",
      "For inhambane with ID number1045114\n",
      "For zhigansk with ID number2012530\n",
      "For nuuk with ID number3421319\n",
      "For preobrazheniye with ID number2017658\n",
      "For viedma with ID number3832899\n",
      "For tuatapere with ID number2180815\n",
      "For mezen with ID number527321\n",
      "For puerto ayora with ID number3652764\n",
      "For port alfred with ID number964432\n",
      "For faya with ID number110690\n",
      "For rauma with ID number639734\n",
      "For busselton with ID number2075265\n",
      "For rikitea with ID number4030556\n",
      "For barrow with ID number5880054\n",
      "For albany with ID number5106841\n",
      "For castro with ID number3466704\n",
      "For georgetown with ID number1735106\n",
      "For kodiak with ID number5866583\n",
      "For central point with ID number5718601\n",
      "For ushuaia with ID number3833367\n",
      "For mataura with ID number6201424\n",
      "For kapaa with ID number5848280\n",
      "For iqaluit with ID number5983720\n",
      "For alofi with ID number4036284\n",
      "For cabo san lucas with ID number3985710\n",
      "For new norfolk with ID number2155415\n",
      "For klaksvik with ID number2618795\n",
      "For petropavlovsk-kamchatskiy with ID number2122104\n",
      "For algeciras with ID number2522013\n",
      "For hermanus with ID number3366880\n",
      "For guozhen with ID number1809263\n",
      "For busselton with ID number2075265\n",
      "For arraial do cabo with ID number3471451\n",
      "For vaini with ID number4032243\n",
      "For makat with ID number608872\n",
      "For albany with ID number5106841\n",
      "For bodden town with ID number3580733\n",
      "For pevek with ID number2122090\n",
      "For livadiya with ID number2020734\n",
      "For magdalena with ID number1703912\n",
      "For atuona with ID number4020109\n",
      "For yellowknife with ID number6185377\n",
      "For vaini with ID number4032243\n",
      "For hermanus with ID number3366880\n",
      "For saint george with ID number5546220\n",
      "For batemans bay with ID number2176639\n",
      "For ushuaia with ID number3833367\n",
      "For tuktoyaktuk with ID number6170031\n",
      "For port alfred with ID number964432\n",
      "For hobart with ID number2163355\n",
      "For busselton with ID number2075265\n",
      "For yellowknife with ID number6185377\n",
      "For ushuaia with ID number3833367\n",
      "For sioux lookout with ID number6148373\n",
      "For hobart with ID number2163355\n",
      "For rikitea with ID number4030556\n",
      "For vengerovo with ID number1487615\n",
      "For pingliang with ID number1798760\n",
      "For butaritari with ID number2110227\n",
      "For chokurdakh with ID number2126123\n",
      "For nara with ID number1855612\n",
      "For butaritari with ID number2110227\n",
      "For avarua with ID number4035715\n",
      "For victoria with ID number1819729\n",
      "For ponta do sol with ID number2264557\n",
      "For punta arenas with ID number3874787\n",
      "For praia da vitoria with ID number3372760\n",
      "For valdivia with ID number3868707\n",
      "For rikitea with ID number4030556\n",
      "For soe with ID number1626703\n",
      "For oksfjord with ID number778362\n",
      "For adrar with ID number2381972\n",
      "For scarborough with ID number2638419\n",
      "For new norfolk with ID number2155415\n",
      "For fortuna with ID number5563839\n",
      "For nikolskoye with ID number546105\n",
      "For khatanga with ID number2022572\n",
      "For norman wells with ID number6089245\n",
      "For zambezi with ID number895953\n",
      "For kirsanov with ID number548330\n",
      "For tuktoyaktuk with ID number6170031\n",
      "For punta arenas with ID number3874787\n",
      "For ushuaia with ID number3833367\n",
      "For norman wells with ID number6089245\n",
      "For alakurtti with ID number583472\n",
      "For monywa with ID number1308522\n",
      "For nova russas with ID number3393832\n",
      "For san ramon with ID number5392593\n",
      "For vaini with ID number4032243\n",
      "For port hardy with ID number6111862\n",
      "For charters towers with ID number2171722\n",
      "For qaanaaq with ID number3831208\n",
      "For arraial do cabo with ID number3471451\n",
      "For saldanha with ID number3361934\n",
      "For punta arenas with ID number3874787\n",
      "For rechitsy with ID number502345\n",
      "For bredasdorp with ID number1015776\n",
      "For bosaso with ID number64013\n",
      "For bilkha with ID number1275609\n",
      "For punta arenas with ID number3874787\n",
      "For cape town with ID number3369157\n",
      "For port alfred with ID number964432\n",
      "For husavik with ID number2629833\n",
      "For mogok with ID number1308937\n",
      "For mataura with ID number6201424\n",
      "For jamestown with ID number5122534\n",
      "For port alfred with ID number964432\n",
      "For busselton with ID number2075265\n",
      "For hermanus with ID number3366880\n",
      "For beringovskiy with ID number2126710\n",
      "For fortuna foothills with ID number5295143\n",
      "For rikitea with ID number4030556\n",
      "For pierre with ID number5767918\n",
      "For tuktoyaktuk with ID number6170031\n",
      "For dukat with ID number2125906\n",
      "For buin with ID number3897774\n",
      "For altamira with ID number3407882\n",
      "For hede with ID number1808744\n",
      "For rikitea with ID number4030556\n",
      "For kavieng with ID number2094342\n",
      "For kaeo with ID number2189343\n",
      "For ust-kan with ID number1488190\n",
      "For paamiut with ID number3421193\n",
      "For nalut with ID number2214432\n",
      "For xiongzhou with ID number1788402\n",
      "For les cayes with ID number3728097\n",
      "For mataura with ID number6201424\n",
      "For mezen with ID number527321\n",
      "For bredasdorp with ID number1015776\n",
      "For aklavik with ID number5882953\n",
      "For east london with ID number1006984\n",
      "For bathsheba with ID number3374083\n",
      "For mataura with ID number6201424\n",
      "For saint-pierre with ID number935214\n",
      "For airai with ID number1651810\n",
      "For vaini with ID number4032243\n",
      "For piacabucu with ID number3454005\n",
      "For hualmay with ID number3939761\n",
      "For nanortalik with ID number3421765\n",
      "For barrow with ID number5880054\n",
      "For bengkulu with ID number1649150\n",
      "For amahai with ID number1651591\n",
      "For hobart with ID number2163355\n",
      "For le port with ID number935616\n",
      "For carnarvon with ID number2074865\n",
      "For mar del plata with ID number3430863\n",
      "For avarua with ID number4035715\n",
      "For rikitea with ID number4030556\n",
      "For port elizabeth with ID number964420\n",
      "For te anau with ID number2181625\n",
      "For manado with ID number1636544\n",
      "For stornoway with ID number2636790\n",
      "For tuktoyaktuk with ID number6170031\n",
      "For bambous virieux with ID number1106677\n",
      "For bethel with ID number5282297\n",
      "For port alfred with ID number964432\n",
      "For chokurdakh with ID number2126123\n",
      "For port elizabeth with ID number964420\n",
      "For asau with ID number686090\n",
      "For hermanus with ID number3366880\n",
      "For cayenne with ID number3382160\n",
      "For saint-augustin with ID number6137462\n",
      "For oum hadjer with ID number2426370\n",
      "For cayenne with ID number3382160\n",
      "For port augusta with ID number2063056\n"
     ]
    },
    {
     "name": "stdout",
     "output_type": "stream",
     "text": [
      "For muisne with ID number3653967\n",
      "For belmonte with ID number3470137\n",
      "For new norfolk with ID number2155415\n",
      "For narsaq with ID number3421719\n",
      "For qaanaaq with ID number3831208\n",
      "For new norfolk with ID number2155415\n",
      "For songjianghe with ID number2034691\n",
      "For ushuaia with ID number3833367\n",
      "For bluff with ID number2206939\n",
      "For mezhdurechensk with ID number1498920\n",
      "For new norfolk with ID number2155415\n",
      "For kayerkan with ID number1497337\n",
      "For rikitea with ID number4030556\n",
      "For karacabey with ID number744537\n",
      "For new norfolk with ID number2155415\n",
      "For ushuaia with ID number3833367\n",
      "For gien with ID number3016097\n",
      "For iqaluit with ID number5983720\n",
      "For saskylakh with ID number2017155\n",
      "For acarau with ID number3408368\n",
      "For hasaki with ID number2112802\n",
      "For ushuaia with ID number3833367\n",
      "For jamestown with ID number5122534\n",
      "For charkhi dadri with ID number1274571\n",
      "For bandarbeyla with ID number64814\n",
      "For bluff with ID number2206939\n",
      "For japura with ID number1642773\n",
      "For iqaluit with ID number5983720\n",
      "For castro with ID number3466704\n",
      "For hasaki with ID number2112802\n",
      "For butaritari with ID number2110227\n",
      "For sorland with ID number3137469\n",
      "For namibe with ID number3347019\n",
      "For olinda with ID number3393536\n",
      "For vaini with ID number4032243\n",
      "For hobart with ID number2163355\n",
      "For longyearbyen with ID number2729907\n",
      "For la asuncion with ID number3480908\n",
      "For hermanus with ID number3366880\n",
      "For vredendal with ID number3359736\n",
      "For lowestoft with ID number2643490\n",
      "For meulaboh with ID number1214488\n",
      "For cape town with ID number3369157\n",
      "For cape town with ID number3369157\n",
      "For fare with ID number4034496\n",
      "For rikitea with ID number4030556\n",
      "For vaini with ID number4032243\n",
      "For tautira with ID number4033557\n",
      "For ushuaia with ID number3833367\n",
      "For saskylakh with ID number2017155\n",
      "For victor harbor with ID number2059470\n",
      "For longyearbyen with ID number2729907\n",
      "For rikitea with ID number4030556\n",
      "For tuktoyaktuk with ID number6170031\n",
      "For lorengau with ID number2092164\n",
      "For rikitea with ID number4030556\n",
      "For bambous virieux with ID number1106677\n",
      "For saldanha with ID number3361934\n",
      "For busselton with ID number2075265\n",
      "For hermanus with ID number3366880\n",
      "For saint-martin-de-crau with ID number2978396\n",
      "For manaure with ID number3675504\n",
      "For yinchuan with ID number1786657\n",
      "For rikitea with ID number4030556\n",
      "For port alfred with ID number964432\n",
      "For cabo san lucas with ID number3985710\n",
      "For coahuayana with ID number4013679\n",
      "For thompson with ID number6165406\n",
      "For rikitea with ID number4030556\n",
      "For provideniya with ID number4031574\n",
      "For egvekinot with ID number4031742\n",
      "For ergani with ID number315468\n",
      "For kodiak with ID number5866583\n",
      "For melo with ID number3441702\n",
      "For fairbanks with ID number5861897\n",
      "For rikitea with ID number4030556\n",
      "For soyo with ID number2236967\n",
      "For esso with ID number2125711\n",
      "For cape town with ID number3369157\n",
      "For woodward with ID number4556050\n",
      "For rikitea with ID number4030556\n",
      "For hobart with ID number2163355\n",
      "For olafsvik with ID number3414079\n",
      "For cape town with ID number3369157\n",
      "For albany with ID number5106841\n",
      "For chulym with ID number1507679\n",
      "For petropavlovsk-kamchatskiy with ID number2122104\n",
      "For barrow with ID number5880054\n",
      "For kodiak with ID number5866583\n",
      "For new norfolk with ID number2155415\n",
      "For victoria with ID number1819729\n",
      "44\n"
     ]
    }
   ],
   "source": [
    "# Save config information.\n",
    "url = \"http://api.openweathermap.org/data/2.5/weather?\"\n",
    "units = \"imperial\"\n",
    "query_url = f\"{url}appid={api_key}&units={units}&q=\"\n",
    "\n",
    "# set up lists to hold reponse info\n",
    "hum = []\n",
    "temp = []\n",
    "cloud = []\n",
    "windy = []\n",
    "geo = []\n",
    "country = []\n",
    "lat = []\n",
    "lng = []\n",
    "nan = []\n",
    "\n",
    "print(\"Beginning Data Retrieval\\n-----------------------------\\n\")\n",
    "\n",
    "# Loop through the list of cities and perform a request for data on each\n",
    "for city in cities:     \n",
    "    try:\n",
    "        response = requests.get(query_url + city).json()\n",
    "        geo.append(response[\"name\"])\n",
    "        country.append(response[\"sys\"][\"country\"])\n",
    "        hum.append(response[\"main\"][\"humidity\"])\n",
    "        temp.append(response[\"main\"][\"temp\"])   \n",
    "        cloud.append(response[\"clouds\"][\"all\"]) \n",
    "        windy.append(response[\"wind\"][\"speed\"])\n",
    "        lat.append(response[\"coord\"][\"lat\"])\n",
    "        lng.append(response[\"coord\"][\"lon\"])\n",
    "        code = response[\"id\"]\n",
    "        print(f\"For {city} with ID number {code}\")\n",
    "    #Allows for cities missing from OpenWeather\n",
    "    except KeyError:\n",
    "        nan.append(city)\n",
    "\n",
    "#Verify that of 600 cities not more than 100 are missing\n",
    "print(len(nan))"
   ]
  },
  {
   "cell_type": "markdown",
   "metadata": {},
   "source": [
    "### Convert Raw Data to DataFrame\n",
    "* Export the city data into a .csv.\n",
    "* Display the DataFrame"
   ]
  },
  {
   "cell_type": "code",
   "execution_count": 9,
   "metadata": {},
   "outputs": [
    {
     "data": {
      "text/html": [
       "<div>\n",
       "<style scoped>\n",
       "    .dataframe tbody tr th:only-of-type {\n",
       "        vertical-align: middle;\n",
       "    }\n",
       "\n",
       "    .dataframe tbody tr th {\n",
       "        vertical-align: top;\n",
       "    }\n",
       "\n",
       "    .dataframe thead th {\n",
       "        text-align: right;\n",
       "    }\n",
       "</style>\n",
       "<table border=\"1\" class=\"dataframe\">\n",
       "  <thead>\n",
       "    <tr style=\"text-align: right;\">\n",
       "      <th></th>\n",
       "      <th>city</th>\n",
       "      <th>country</th>\n",
       "      <th>humidity</th>\n",
       "      <th>temp</th>\n",
       "      <th>cloud</th>\n",
       "      <th>windy</th>\n",
       "      <th>lat</th>\n",
       "      <th>lng</th>\n",
       "    </tr>\n",
       "  </thead>\n",
       "  <tbody>\n",
       "    <tr>\n",
       "      <th>0</th>\n",
       "      <td>Mazagão</td>\n",
       "      <td>BR</td>\n",
       "      <td>74</td>\n",
       "      <td>86.00</td>\n",
       "      <td>20</td>\n",
       "      <td>9.17</td>\n",
       "      <td>-0.12</td>\n",
       "      <td>-51.29</td>\n",
       "    </tr>\n",
       "    <tr>\n",
       "      <th>1</th>\n",
       "      <td>Ushuaia</td>\n",
       "      <td>AR</td>\n",
       "      <td>86</td>\n",
       "      <td>33.80</td>\n",
       "      <td>75</td>\n",
       "      <td>26.40</td>\n",
       "      <td>-54.80</td>\n",
       "      <td>-68.30</td>\n",
       "    </tr>\n",
       "    <tr>\n",
       "      <th>2</th>\n",
       "      <td>Atuona</td>\n",
       "      <td>PF</td>\n",
       "      <td>79</td>\n",
       "      <td>77.56</td>\n",
       "      <td>30</td>\n",
       "      <td>24.29</td>\n",
       "      <td>-9.80</td>\n",
       "      <td>-139.03</td>\n",
       "    </tr>\n",
       "    <tr>\n",
       "      <th>3</th>\n",
       "      <td>George</td>\n",
       "      <td>ZA</td>\n",
       "      <td>93</td>\n",
       "      <td>48.20</td>\n",
       "      <td>18</td>\n",
       "      <td>3.36</td>\n",
       "      <td>-33.96</td>\n",
       "      <td>22.46</td>\n",
       "    </tr>\n",
       "    <tr>\n",
       "      <th>4</th>\n",
       "      <td>Tasiilaq</td>\n",
       "      <td>GL</td>\n",
       "      <td>80</td>\n",
       "      <td>35.60</td>\n",
       "      <td>0</td>\n",
       "      <td>1.12</td>\n",
       "      <td>65.61</td>\n",
       "      <td>-37.64</td>\n",
       "    </tr>\n",
       "  </tbody>\n",
       "</table>\n",
       "</div>"
      ],
      "text/plain": [
       "       city country  humidity   temp  cloud  windy    lat     lng\n",
       "0   Mazagão      BR        74  86.00     20   9.17  -0.12  -51.29\n",
       "1   Ushuaia      AR        86  33.80     75  26.40 -54.80  -68.30\n",
       "2    Atuona      PF        79  77.56     30  24.29  -9.80 -139.03\n",
       "3    George      ZA        93  48.20     18   3.36 -33.96   22.46\n",
       "4  Tasiilaq      GL        80  35.60      0   1.12  65.61  -37.64"
      ]
     },
     "execution_count": 9,
     "metadata": {},
     "output_type": "execute_result"
    }
   ],
   "source": [
    "weather_dict = {\n",
    "    \"city\": geo,\n",
    "    \"country\": country,\n",
    "    \"humidity\": hum,\n",
    "    \"temp\": temp,\n",
    "    \"cloud\":cloud,\n",
    "    \"windy\":windy,\n",
    "    \"lat\":lat,\n",
    "    \"lng\":lng}\n",
    "city_data = pd.DataFrame(weather_dict)\n",
    "\n",
    "\n",
    "#Export to CSV\n",
    "output_file = os.path.join(\"output_data\", \"City_Data.csv\")\n",
    "city_data.to_csv(output_file, index=False, header=True)\n",
    "\n",
    "city_data.head()"
   ]
  },
  {
   "cell_type": "markdown",
   "metadata": {},
   "source": [
    "## Inspect the data and remove the cities where the humidity > 100%.\n",
    "----\n",
    "Skip this step if there are no cities that have humidity > 100%. "
   ]
  },
  {
   "cell_type": "code",
   "execution_count": 14,
   "metadata": {},
   "outputs": [
    {
     "name": "stdout",
     "output_type": "stream",
     "text": [
      "6\n",
      "Int64Index([72, 90, 299, 429, 469, 515], dtype='int64')\n"
     ]
    }
   ],
   "source": [
    "#  Get the indices of cities that have humidity over 100%.\n",
    "indices = city_data.index[city_data[\"humidity\"] >= 100]\n",
    "print(len(indices))\n",
    "print(indices)"
   ]
  },
  {
   "cell_type": "code",
   "execution_count": 15,
   "metadata": {},
   "outputs": [
    {
     "name": "stdout",
     "output_type": "stream",
     "text": [
      "540\n",
      "534\n"
     ]
    },
    {
     "data": {
      "text/html": [
       "<div>\n",
       "<style scoped>\n",
       "    .dataframe tbody tr th:only-of-type {\n",
       "        vertical-align: middle;\n",
       "    }\n",
       "\n",
       "    .dataframe tbody tr th {\n",
       "        vertical-align: top;\n",
       "    }\n",
       "\n",
       "    .dataframe thead th {\n",
       "        text-align: right;\n",
       "    }\n",
       "</style>\n",
       "<table border=\"1\" class=\"dataframe\">\n",
       "  <thead>\n",
       "    <tr style=\"text-align: right;\">\n",
       "      <th></th>\n",
       "      <th>city</th>\n",
       "      <th>country</th>\n",
       "      <th>humidity</th>\n",
       "      <th>temp</th>\n",
       "      <th>cloud</th>\n",
       "      <th>windy</th>\n",
       "      <th>lat</th>\n",
       "    </tr>\n",
       "  </thead>\n",
       "  <tbody>\n",
       "    <tr>\n",
       "      <th>0</th>\n",
       "      <td>Jamestown</td>\n",
       "      <td>US</td>\n",
       "      <td>72</td>\n",
       "      <td>64.06</td>\n",
       "      <td>75</td>\n",
       "      <td>10.29</td>\n",
       "      <td>42.10</td>\n",
       "    </tr>\n",
       "    <tr>\n",
       "      <th>1</th>\n",
       "      <td>Nago</td>\n",
       "      <td>JP</td>\n",
       "      <td>88</td>\n",
       "      <td>80.98</td>\n",
       "      <td>1</td>\n",
       "      <td>7.65</td>\n",
       "      <td>26.59</td>\n",
       "    </tr>\n",
       "    <tr>\n",
       "      <th>2</th>\n",
       "      <td>Qandala</td>\n",
       "      <td>SO</td>\n",
       "      <td>54</td>\n",
       "      <td>90.63</td>\n",
       "      <td>3</td>\n",
       "      <td>5.79</td>\n",
       "      <td>11.47</td>\n",
       "    </tr>\n",
       "    <tr>\n",
       "      <th>3</th>\n",
       "      <td>Katsuura</td>\n",
       "      <td>JP</td>\n",
       "      <td>86</td>\n",
       "      <td>81.48</td>\n",
       "      <td>98</td>\n",
       "      <td>11.99</td>\n",
       "      <td>35.13</td>\n",
       "    </tr>\n",
       "    <tr>\n",
       "      <th>4</th>\n",
       "      <td>Busselton</td>\n",
       "      <td>AU</td>\n",
       "      <td>53</td>\n",
       "      <td>46.31</td>\n",
       "      <td>0</td>\n",
       "      <td>10.74</td>\n",
       "      <td>-33.65</td>\n",
       "    </tr>\n",
       "  </tbody>\n",
       "</table>\n",
       "</div>"
      ],
      "text/plain": [
       "        city country  humidity   temp  cloud  windy    lat\n",
       "0  Jamestown      US        72  64.06     75  10.29  42.10\n",
       "1       Nago      JP        88  80.98      1   7.65  26.59\n",
       "2    Qandala      SO        54  90.63      3   5.79  11.47\n",
       "3   Katsuura      JP        86  81.48     98  11.99  35.13\n",
       "4  Busselton      AU        53  46.31      0  10.74 -33.65"
      ]
     },
     "execution_count": 15,
     "metadata": {},
     "output_type": "execute_result"
    }
   ],
   "source": [
    "# Make a new DataFrame equal to the city data to drop all humidity outliers by index.\n",
    "# Passing \"inplace=False\" will make a copy of the city_data DataFrame, which we call \"clean_city_data\".\n",
    "\n",
    "#Drop data by index (matching list indices) then input to new df \n",
    "clean_city_data = city_data.drop(index=indices)\n",
    "\n",
    "#Verify data was dropped\n",
    "print(len(city_data)),print(len(clean_city_data))\n",
    "\n",
    "clean_city_data.head()"
   ]
  },
  {
   "cell_type": "markdown",
   "metadata": {},
   "source": [
    "## Plotting the Data\n",
    "* Use proper labeling of the plots using plot titles (including date of analysis) and axes labels.\n",
    "* Save the plotted figures as .pngs."
   ]
  },
  {
   "cell_type": "markdown",
   "metadata": {},
   "source": [
    "## Latitude vs. Temperature Plot"
   ]
  },
  {
   "cell_type": "code",
   "execution_count": 16,
   "metadata": {
    "scrolled": true
   },
   "outputs": [
    {
     "data": {
      "text/plain": [
       "'This graph shows a general trend of higher temperatures closer \\nto the equator, with declining temps as the latitudes move to \\nthe polar regions'"
      ]
     },
     "execution_count": 16,
     "metadata": {},
     "output_type": "execute_result"
    },
    {
     "data": {
      "image/png": "[encoded data removed]",
      "text/plain": [
       "<Figure size 432x288 with 1 Axes>"
      ]
     },
     "metadata": {
      "needs_background": "light"
     },
     "output_type": "display_data"
    }
   ],
   "source": [
    "#Data into axis\n",
    "x_axis = clean_city_data[\"lat\"]\n",
    "y_axis = clean_city_data[\"temp\"]\n",
    "\n",
    "#Labels\n",
    "plt.xlabel(\"Latitude\")\n",
    "plt.ylabel(\"Temperature\")\n",
    "plt.title(\"Global Latitude vs Temperature\")\n",
    "\n",
    "#Put into scatter plot\n",
    "plt.scatter(x_axis,y_axis)\n",
    "\n",
    "\"\"\"This graph shows a general trend of higher temperatures closer \n",
    "to the equator, with declining temps as the latitudes move to \n",
    "the polar regions\"\"\""
   ]
  },
  {
   "cell_type": "markdown",
   "metadata": {},
   "source": [
    "## Latitude vs. Humidity Plot"
   ]
  },
  {
   "cell_type": "code",
   "execution_count": 17,
   "metadata": {},
   "outputs": [
    {
     "data": {
      "text/plain": [
       "\"I don't see a trend that stands out here, the data really only\\ntells me that their are more cities that have a 60% to %80 relative \\nhumidity. If I had to guess I would say that correlates with most \\nof worlds population living next to a body of water or where water \\nis readily available.\""
      ]
     },
     "execution_count": 17,
     "metadata": {},
     "output_type": "execute_result"
    },
    {
     "data": {
      "image/png": "[encoded data removed]",
      "text/plain": [
       "<Figure size 432x288 with 1 Axes>"
      ]
     },
     "metadata": {
      "needs_background": "light"
     },
     "output_type": "display_data"
    }
   ],
   "source": [
    "#Data into axis\n",
    "x_axis = clean_city_data[\"lat\"]\n",
    "y_axis = clean_city_data[\"humidity\"]\n",
    "\n",
    "#Labels\n",
    "plt.xlabel(\"Latitude\")\n",
    "plt.ylabel(\"Humidity\")\n",
    "plt.title(\"Global Latitude vs Humidity\")\n",
    "\n",
    "#Put into scatter plot\n",
    "plt.scatter(x_axis,y_axis)\n",
    "\n",
    "\"\"\"I don't see a trend that stands out here, the data really only\n",
    "tells me that their are more cities that have a 60% to %80 relative \n",
    "humidity. If I had to guess I would say that correlates with most \n",
    "of worlds population living next to a body of water or where water \n",
    "is readily available.\"\"\""
   ]
  },
  {
   "cell_type": "markdown",
   "metadata": {},
   "source": [
    "## Latitude vs. Cloudiness Plot"
   ]
  },
  {
   "cell_type": "code",
   "execution_count": 18,
   "metadata": {},
   "outputs": [
    {
     "data": {
      "text/plain": [
       "'The consistency of straight lines at the cloudiness %\\nat 0, 20, 40, 75, and 100 tells me a person looks outside and says\\nyeah today looks about this amount of cloudy and is thus a qualitative\\nvalue rather than a quantitative one.'"
      ]
     },
     "execution_count": 18,
     "metadata": {},
     "output_type": "execute_result"
    },
    {
     "data": {
      "image/png": "[encoded data removed]",
      "text/plain": [
       "<Figure size 432x288 with 1 Axes>"
      ]
     },
     "metadata": {
      "needs_background": "light"
     },
     "output_type": "display_data"
    }
   ],
   "source": [
    "#Data into axis\n",
    "x_axis = clean_city_data[\"lat\"]\n",
    "y_axis = clean_city_data[\"cloud\"]\n",
    "\n",
    "#Labels\n",
    "plt.xlabel(\"Latitude\")\n",
    "plt.ylabel(\"Cloudiness\")\n",
    "plt.title(\"Global Latitude vs Cloudiness\")\n",
    "\n",
    "#Put into scatter plot\n",
    "plt.scatter(x_axis,y_axis)\n",
    "\n",
    "\"\"\"The consistency of straight lines at the cloudiness %\n",
    "at 0, 20, 40, 75, and 100 tells me a person looks outside and says\n",
    "yeah today looks about this amount of cloudy and is thus a qualitative\n",
    "value rather than a quantitative one.\"\"\""
   ]
  },
  {
   "cell_type": "markdown",
   "metadata": {},
   "source": [
    "## Latitude vs. Wind Speed Plot"
   ]
  },
  {
   "cell_type": "code",
   "execution_count": 19,
   "metadata": {},
   "outputs": [
    {
     "data": {
      "text/plain": [
       "'Their are more cities in the northern hemishpere that are concentrated\\naround the lats of 20 40 and 60. They are also concentrated at wind speeds \\nof around 5mph, suggesting that something moderates the wind speeds. I \\nbelieve this suggests that their are more cities concentrated in the northern \\nhemisphere and those cities are close to the ocean where breezes tend to be\\nconsistent but of low speed.'"
      ]
     },
     "execution_count": 19,
     "metadata": {},
     "output_type": "execute_result"
    },
    {
     "data": {
      "image/png": "[encoded data removed]",
      "text/plain": [
       "<Figure size 432x288 with 1 Axes>"
      ]
     },
     "metadata": {
      "needs_background": "light"
     },
     "output_type": "display_data"
    }
   ],
   "source": [
    "#Data into axis\n",
    "x_axis = clean_city_data[\"lat\"]\n",
    "y_axis = clean_city_data[\"windy\"]\n",
    "\n",
    "#Labels\n",
    "plt.xlabel(\"Latitude\")\n",
    "plt.ylabel(\"Wind Speed\")\n",
    "plt.title(\"Global Latitude vs Wind Speed\")\n",
    "\n",
    "#Put into scatter plot\n",
    "plt.scatter(x_axis,y_axis)\n",
    "\n",
    "\"\"\"Their are more cities in the northern hemishpere that are concentrated\n",
    "around the lats of 20 40 and 60. They are also concentrated at wind speeds \n",
    "of around 5mph, suggesting that something moderates the wind speeds. I \n",
    "believe this suggests that their are more cities concentrated in the northern \n",
    "hemisphere and those cities are close to the ocean where breezes tend to be\n",
    "consistent but of low speed.\"\"\""
   ]
  },
  {
   "cell_type": "markdown",
   "metadata": {},
   "source": [
    "## Linear Regression"
   ]
  },
  {
   "cell_type": "code",
   "execution_count": 20,
   "metadata": {},
   "outputs": [
    {
     "data": {
      "text/html": [
       "<div>\n",
       "<style scoped>\n",
       "    .dataframe tbody tr th:only-of-type {\n",
       "        vertical-align: middle;\n",
       "    }\n",
       "\n",
       "    .dataframe tbody tr th {\n",
       "        vertical-align: top;\n",
       "    }\n",
       "\n",
       "    .dataframe thead th {\n",
       "        text-align: right;\n",
       "    }\n",
       "</style>\n",
       "<table border=\"1\" class=\"dataframe\">\n",
       "  <thead>\n",
       "    <tr style=\"text-align: right;\">\n",
       "      <th></th>\n",
       "      <th>city</th>\n",
       "      <th>country</th>\n",
       "      <th>humidity</th>\n",
       "      <th>temp</th>\n",
       "      <th>cloud</th>\n",
       "      <th>windy</th>\n",
       "      <th>lat</th>\n",
       "    </tr>\n",
       "  </thead>\n",
       "  <tbody>\n",
       "    <tr>\n",
       "      <th>0</th>\n",
       "      <td>Jamestown</td>\n",
       "      <td>US</td>\n",
       "      <td>72</td>\n",
       "      <td>64.06</td>\n",
       "      <td>75</td>\n",
       "      <td>10.29</td>\n",
       "      <td>42.10</td>\n",
       "    </tr>\n",
       "    <tr>\n",
       "      <th>1</th>\n",
       "      <td>Nago</td>\n",
       "      <td>JP</td>\n",
       "      <td>88</td>\n",
       "      <td>80.98</td>\n",
       "      <td>1</td>\n",
       "      <td>7.65</td>\n",
       "      <td>26.59</td>\n",
       "    </tr>\n",
       "    <tr>\n",
       "      <th>2</th>\n",
       "      <td>Qandala</td>\n",
       "      <td>SO</td>\n",
       "      <td>54</td>\n",
       "      <td>90.63</td>\n",
       "      <td>3</td>\n",
       "      <td>5.79</td>\n",
       "      <td>11.47</td>\n",
       "    </tr>\n",
       "    <tr>\n",
       "      <th>3</th>\n",
       "      <td>Katsuura</td>\n",
       "      <td>JP</td>\n",
       "      <td>86</td>\n",
       "      <td>81.48</td>\n",
       "      <td>98</td>\n",
       "      <td>11.99</td>\n",
       "      <td>35.13</td>\n",
       "    </tr>\n",
       "    <tr>\n",
       "      <th>8</th>\n",
       "      <td>Kearney</td>\n",
       "      <td>US</td>\n",
       "      <td>47</td>\n",
       "      <td>75.20</td>\n",
       "      <td>1</td>\n",
       "      <td>10.29</td>\n",
       "      <td>40.70</td>\n",
       "    </tr>\n",
       "  </tbody>\n",
       "</table>\n",
       "</div>"
      ],
      "text/plain": [
       "        city country  humidity   temp  cloud  windy    lat\n",
       "0  Jamestown      US        72  64.06     75  10.29  42.10\n",
       "1       Nago      JP        88  80.98      1   7.65  26.59\n",
       "2    Qandala      SO        54  90.63      3   5.79  11.47\n",
       "3   Katsuura      JP        86  81.48     98  11.99  35.13\n",
       "8    Kearney      US        47  75.20      1  10.29  40.70"
      ]
     },
     "execution_count": 20,
     "metadata": {},
     "output_type": "execute_result"
    }
   ],
   "source": [
    "#Separates cities into north and south hemishpere\n",
    "north_df = clean_city_data[clean_city_data[\"lat\"]>=0]\n",
    "south_df = clean_city_data[clean_city_data[\"lat\"]<0]\n",
    "\n",
    "north_df.head()"
   ]
  },
  {
   "cell_type": "markdown",
   "metadata": {},
   "source": [
    "####  Northern Hemisphere - Max Temp vs. Latitude Linear Regression"
   ]
  },
  {
   "cell_type": "code",
   "execution_count": 21,
   "metadata": {},
   "outputs": [
    {
     "name": "stdout",
     "output_type": "stream",
     "text": [
      "The r-squared is: 0.7518310273443033\n"
     ]
    },
    {
     "data": {
      "text/plain": [
       "'There is a direct correlations between latitude and temperature'"
      ]
     },
     "execution_count": 21,
     "metadata": {},
     "output_type": "execute_result"
    },
    {
     "data": {
      "image/png": "[encoded data removed]",
      "text/plain": [
       "<Figure size 720x576 with 1 Axes>"
      ]
     },
     "metadata": {
      "needs_background": "light"
     },
     "output_type": "display_data"
    }
   ],
   "source": [
    "x_values = north_df['lat']\n",
    "y_values = north_df['temp']\n",
    "\n",
    "# Run the regression and store each of the returned values\n",
    "slope, intercept, rvalue, pvalue, stderr = linregress(x_values, y_values)\n",
    "\n",
    "# Calculate the predictions for each value of x (# Rooms)\n",
    "regression_values = x_values * slope + intercept\n",
    "\n",
    "# store a string version of the linear equation, so we can display it on the plot\n",
    "line_eq = \"y = \" + str(round(slope,2)) + \"x + \" + str(round(intercept,2))\n",
    "\n",
    "plt.figure(figsize=(10,8))\n",
    "\n",
    "# Plot observations\n",
    "plt.scatter(x_values, y_values)\n",
    "\n",
    "# Plot the regression line\n",
    "plt.plot(x_values, regression_values, \"red\")\n",
    "\n",
    "# Annotate the plot with the linear equation\n",
    "plt.annotate(line_eq, (7.5, 30), fontsize=15, color=\"red\")\n",
    "plt.xlabel('Temperature')\n",
    "plt.ylabel('Latitude')\n",
    "plt.title(\"Northern Hemisphere - Max Temp vs. Latitude Linear Regression\")\n",
    "print(f\"The r-squared is: {rvalue**2}\")\n",
    "\n",
    "plt.savefig(os.path.join(\"images\",\"north_temp_lat.png\"))\n",
    "\n",
    "\"\"\"There is a direct correlation between latitude and temperature\"\"\""
   ]
  },
  {
   "cell_type": "markdown",
   "metadata": {},
   "source": [
    "####  Southern Hemisphere - Max Temp vs. Latitude Linear Regression"
   ]
  },
  {
   "cell_type": "code",
   "execution_count": 22,
   "metadata": {},
   "outputs": [
    {
     "name": "stdout",
     "output_type": "stream",
     "text": [
      "The r-squared is: 0.7518310273443033\n"
     ]
    },
    {
     "data": {
      "text/plain": [
       "'There is a direct correlation between latitude and temperature.'"
      ]
     },
     "execution_count": 22,
     "metadata": {},
     "output_type": "execute_result"
    },
    {
     "data": {
      "image/png": "[encoded data removed]",
      "text/plain": [
       "<Figure size 720x576 with 1 Axes>"
      ]
     },
     "metadata": {
      "needs_background": "light"
     },
     "output_type": "display_data"
    }
   ],
   "source": [
    "x_values = north_df['lat']\n",
    "y_values = north_df['temp']\n",
    "\n",
    "# Run the regression and store each of the returned values\n",
    "slope, intercept, rvalue, pvalue, stderr = linregress(x_values, y_values)\n",
    "\n",
    "# Calculate the predictions for each value of x (# Rooms)\n",
    "regression_values = x_values * slope + intercept\n",
    "\n",
    "# store a string version of the linear equation, so we can display it on the plot\n",
    "line_eq = \"y = \" + str(round(slope,2)) + \"x + \" + str(round(intercept,2))\n",
    "\n",
    "plt.figure(figsize=(10,8))\n",
    "\n",
    "# Plot observations\n",
    "plt.scatter(x_values, y_values)\n",
    "\n",
    "# Plot the regression line\n",
    "plt.plot(x_values, regression_values, \"red\")\n",
    "\n",
    "# Annotate the plot with the linear equation\n",
    "plt.annotate(line_eq, (7.5, 30), fontsize=15, color=\"red\")\n",
    "plt.xlabel('Temperature')\n",
    "plt.ylabel('Latitude')\n",
    "plt.title(\"Southern Hemisphere - Max Temp vs. Latitude Linear Regression\")\n",
    "print(f\"The r-squared is: {rvalue**2}\")\n",
    "\n",
    "plt.savefig(os.path.join(\"images\",\"south_temp_lat.png\"))\n",
    "\n",
    "\"\"\"There is a direct correlation between latitude and temperature.\"\"\""
   ]
  },
  {
   "cell_type": "markdown",
   "metadata": {},
   "source": [
    "####  Northern Hemisphere - Humidity (%) vs. Latitude Linear Regression"
   ]
  },
  {
   "cell_type": "code",
   "execution_count": 23,
   "metadata": {},
   "outputs": [
    {
     "name": "stdout",
     "output_type": "stream",
     "text": [
      "The r-squared is: 0.048188977050318764\n"
     ]
    },
    {
     "data": {
      "text/plain": [
       "'No correlation between latitude and humidity'"
      ]
     },
     "execution_count": 23,
     "metadata": {},
     "output_type": "execute_result"
    },
    {
     "data": {
      "image/png": "[encoded data removed]",
      "text/plain": [
       "<Figure size 720x576 with 1 Axes>"
      ]
     },
     "metadata": {
      "needs_background": "light"
     },
     "output_type": "display_data"
    }
   ],
   "source": [
    "x_values = north_df['lat']\n",
    "y_values = north_df['humidity']\n",
    "\n",
    "# Run the regression and store each of the returned values\n",
    "slope, intercept, rvalue, pvalue, stderr = linregress(x_values, y_values)\n",
    "\n",
    "# Calculate the predictions for each value of x (# Rooms)\n",
    "regression_values = x_values * slope + intercept\n",
    "\n",
    "# store a string version of the linear equation, so we can display it on the plot\n",
    "line_eq = \"y = \" + str(round(slope,2)) + \"x + \" + str(round(intercept,2))\n",
    "\n",
    "plt.figure(figsize=(10,8))\n",
    "\n",
    "# Plot observations\n",
    "plt.scatter(x_values, y_values)\n",
    "\n",
    "# Plot the regression line\n",
    "plt.plot(x_values, regression_values, \"red\")\n",
    "\n",
    "# Annotate the plot with the linear equation\n",
    "plt.annotate(line_eq, (7.5, 30), fontsize=15, color=\"red\")\n",
    "plt.xlabel('Humidity')\n",
    "plt.ylabel('Latitude')\n",
    "plt.title(\"Northern Hemisphere - Humidity (%) vs. Latitude Linear Regression\")\n",
    "print(f\"The r-squared is: {rvalue**2}\")\n",
    "\n",
    "plt.savefig(os.path.join(\"images\",\"north_hum_lat.png\"))\n",
    "\n",
    "\"\"\"No correlation between latitude and humidity\"\"\""
   ]
  },
  {
   "cell_type": "markdown",
   "metadata": {},
   "source": [
    "####  Southern Hemisphere - Humidity (%) vs. Latitude Linear Regression"
   ]
  },
  {
   "cell_type": "code",
   "execution_count": 24,
   "metadata": {},
   "outputs": [
    {
     "name": "stdout",
     "output_type": "stream",
     "text": [
      "The r-squared is: 0.00302814897416989\n"
     ]
    },
    {
     "data": {
      "text/plain": [
       "'No correlation between latitude and humidity'"
      ]
     },
     "execution_count": 24,
     "metadata": {},
     "output_type": "execute_result"
    },
    {
     "data": {
      "image/png": "[encoded data removed]",
      "text/plain": [
       "<Figure size 720x576 with 1 Axes>"
      ]
     },
     "metadata": {
      "needs_background": "light"
     },
     "output_type": "display_data"
    }
   ],
   "source": [
    "x_values = south_df['lat']\n",
    "y_values = south_df['humidity']\n",
    "\n",
    "# Run the regression and store each of the returned values\n",
    "slope, intercept, rvalue, pvalue, stderr = linregress(x_values, y_values)\n",
    "\n",
    "# Calculate the predictions for each value of x (# Rooms)\n",
    "regression_values = x_values * slope + intercept\n",
    "\n",
    "# store a string version of the linear equation, so we can display it on the plot\n",
    "line_eq = \"y = \" + str(round(slope,2)) + \"x + \" + str(round(intercept,2))\n",
    "\n",
    "plt.figure(figsize=(10,8))\n",
    "\n",
    "# Plot observations\n",
    "plt.scatter(x_values, y_values)\n",
    "\n",
    "# Plot the regression line\n",
    "plt.plot(x_values, regression_values, \"red\")\n",
    "\n",
    "# Annotate the plot with the linear equation\n",
    "plt.annotate(line_eq, (7.5, 30), fontsize=15, color=\"red\")\n",
    "plt.xlabel('Humidity')\n",
    "plt.ylabel('Latitude')\n",
    "plt.title(\"Southern Hemisphere - Humidity (%) vs. Latitude Linear Regression\")\n",
    "print(f\"The r-squared is: {rvalue**2}\")\n",
    "\n",
    "plt.savefig(os.path.join(\"images\",\"south_hum_lat.png\"))\n",
    "\n",
    "\"\"\"No correlation between latitude and humidity\"\"\""
   ]
  },
  {
   "cell_type": "markdown",
   "metadata": {},
   "source": [
    "####  Northern Hemisphere - Cloudiness (%) vs. Latitude Linear Regression"
   ]
  },
  {
   "cell_type": "code",
   "execution_count": 25,
   "metadata": {},
   "outputs": [
    {
     "name": "stdout",
     "output_type": "stream",
     "text": [
      "The r-squared is: 0.023400011173875267\n"
     ]
    },
    {
     "data": {
      "text/plain": [
       "'No correlation between cloudiness and latitude'"
      ]
     },
     "execution_count": 25,
     "metadata": {},
     "output_type": "execute_result"
    },
    {
     "data": {
      "image/png": "[encoded data removed]",
      "text/plain": [
       "<Figure size 720x576 with 1 Axes>"
      ]
     },
     "metadata": {
      "needs_background": "light"
     },
     "output_type": "display_data"
    }
   ],
   "source": [
    "x_values = north_df['lat']\n",
    "y_values = north_df['cloud']\n",
    "\n",
    "# Run the regression and store each of the returned values\n",
    "slope, intercept, rvalue, pvalue, stderr = linregress(x_values, y_values)\n",
    "\n",
    "# Calculate the predictions for each value of x (# Rooms)\n",
    "regression_values = x_values * slope + intercept\n",
    "\n",
    "# store a string version of the linear equation, so we can display it on the plot\n",
    "line_eq = \"y = \" + str(round(slope,2)) + \"x + \" + str(round(intercept,2))\n",
    "\n",
    "plt.figure(figsize=(10,8))\n",
    "\n",
    "# Plot observations\n",
    "plt.scatter(x_values, y_values)\n",
    "\n",
    "# Plot the regression line\n",
    "plt.plot(x_values, regression_values, \"red\")\n",
    "\n",
    "# Annotate the plot with the linear equation\n",
    "plt.annotate(line_eq, (7.5, 30), fontsize=15, color=\"red\")\n",
    "plt.xlabel('Cloudiness')\n",
    "plt.ylabel('Latitude')\n",
    "plt.title(\"Northern Hemisphere - Cloudiness (%) vs. Latitude Linear Regression\")\n",
    "print(f\"The r-squared is: {rvalue**2}\")\n",
    "\n",
    "plt.savefig(os.path.join(\"images\",\"north_cloud_lat.png\"))\n",
    "\n",
    "\"\"\"No correlation between cloudiness and latitude\"\"\""
   ]
  },
  {
   "cell_type": "markdown",
   "metadata": {},
   "source": [
    "####  Southern Hemisphere - Cloudiness (%) vs. Latitude Linear Regression"
   ]
  },
  {
   "cell_type": "code",
   "execution_count": 26,
   "metadata": {
    "scrolled": true
   },
   "outputs": [
    {
     "name": "stdout",
     "output_type": "stream",
     "text": [
      "The r-squared is: 0.011517444476028288\n"
     ]
    },
    {
     "data": {
      "text/plain": [
       "'No correlation between cloudiness and latitude'"
      ]
     },
     "execution_count": 26,
     "metadata": {},
     "output_type": "execute_result"
    },
    {
     "data": {
      "image/png": "[encoded data removed]",
      "text/plain": [
       "<Figure size 720x576 with 1 Axes>"
      ]
     },
     "metadata": {
      "needs_background": "light"
     },
     "output_type": "display_data"
    }
   ],
   "source": [
    "x_values = south_df['lat']\n",
    "y_values = south_df['cloud']\n",
    "\n",
    "# Run the regression and store each of the returned values\n",
    "slope, intercept, rvalue, pvalue, stderr = linregress(x_values, y_values)\n",
    "\n",
    "# Calculate the predictions for each value of x (# Rooms)\n",
    "regression_values = x_values * slope + intercept\n",
    "\n",
    "# store a string version of the linear equation, so we can display it on the plot\n",
    "line_eq = \"y = \" + str(round(slope,2)) + \"x + \" + str(round(intercept,2))\n",
    "\n",
    "plt.figure(figsize=(10,8))\n",
    "\n",
    "# Plot observations\n",
    "plt.scatter(x_values, y_values)\n",
    "\n",
    "# Plot the regression line\n",
    "plt.plot(x_values, regression_values, \"red\")\n",
    "\n",
    "# Annotate the plot with the linear equation\n",
    "plt.annotate(line_eq, (7.5, 30), fontsize=15, color=\"red\")\n",
    "plt.xlabel('Cloudiness')\n",
    "plt.ylabel('Latitude')\n",
    "plt.title(\"Southern Hemisphere - Cloudiness (%) vs. Latitude Linear Regression\")\n",
    "print(f\"The r-squared is: {rvalue**2}\")\n",
    "\n",
    "plt.savefig(os.path.join(\"images\",\"south_cloud_lat.png\"))\n",
    "\n",
    "\"\"\"No correlation between cloudiness and latitude\"\"\""
   ]
  },
  {
   "cell_type": "markdown",
   "metadata": {},
   "source": [
    "####  Northern Hemisphere - Wind Speed (mph) vs. Latitude Linear Regression"
   ]
  },
  {
   "cell_type": "code",
   "execution_count": 27,
   "metadata": {},
   "outputs": [
    {
     "name": "stdout",
     "output_type": "stream",
     "text": [
      "The r-squared is: 0.004319071953532472\n"
     ]
    },
    {
     "data": {
      "text/plain": [
       "'no correlation between lattitude and wind speed'"
      ]
     },
     "execution_count": 27,
     "metadata": {},
     "output_type": "execute_result"
    },
    {
     "data": {
      "image/png": "[encoded data removed]",
      "text/plain": [
       "<Figure size 720x576 with 1 Axes>"
      ]
     },
     "metadata": {
      "needs_background": "light"
     },
     "output_type": "display_data"
    }
   ],
   "source": [
    "x_values = north_df['lat']\n",
    "y_values = north_df['windy']\n",
    "\n",
    "# Run the regression and store each of the returned values\n",
    "slope, intercept, rvalue, pvalue, stderr = linregress(x_values, y_values)\n",
    "\n",
    "# Calculate the predictions for each value of x (# Rooms)\n",
    "regression_values = x_values * slope + intercept\n",
    "\n",
    "# store a string version of the linear equation, so we can display it on the plot\n",
    "line_eq = \"y = \" + str(round(slope,2)) + \"x + \" + str(round(intercept,2))\n",
    "\n",
    "plt.figure(figsize=(10,8))\n",
    "\n",
    "# Plot observations\n",
    "plt.scatter(x_values, y_values)\n",
    "\n",
    "# Plot the regression line\n",
    "plt.plot(x_values, regression_values, \"red\")\n",
    "\n",
    "# Annotate the plot with the linear equation\n",
    "plt.annotate(line_eq, (7.5, 30), fontsize=15, color=\"red\")\n",
    "plt.xlabel('Wind Speed')\n",
    "plt.ylabel('Latitude')\n",
    "plt.title(\"Northern Hemisphere - Wind Speed (mph) vs. Latitude Linear Regression\")\n",
    "print(f\"The r-squared is: {rvalue**2}\")\n",
    "\n",
    "plt.savefig(os.path.join(\"images\",\"north_wind_lat.png\"))\n",
    "\n",
    "\"\"\"no correlation between lattitude and wind speed\"\"\""
   ]
  },
  {
   "cell_type": "markdown",
   "metadata": {},
   "source": [
    "####  Southern Hemisphere - Wind Speed (mph) vs. Latitude Linear Regression"
   ]
  },
  {
   "cell_type": "code",
   "execution_count": 28,
   "metadata": {},
   "outputs": [
    {
     "name": "stdout",
     "output_type": "stream",
     "text": [
      "The r-squared is: 0.08940385087932713\n"
     ]
    },
    {
     "data": {
      "text/plain": [
       "'No correlation between latitude and wind speed'"
      ]
     },
     "execution_count": 28,
     "metadata": {},
     "output_type": "execute_result"
    },
    {
     "data": {
      "image/png": "[encoded data removed]",
      "text/plain": [
       "<Figure size 720x576 with 1 Axes>"
      ]
     },
     "metadata": {
      "needs_background": "light"
     },
     "output_type": "display_data"
    }
   ],
   "source": [
    "x_values = south_df['lat']\n",
    "y_values = south_df['windy']\n",
    "\n",
    "# Run the regression and store each of the returned values\n",
    "slope, intercept, rvalue, pvalue, stderr = linregress(x_values, y_values)\n",
    "\n",
    "# Calculate the predictions for each value of x (# Rooms)\n",
    "regression_values = x_values * slope + intercept\n",
    "\n",
    "# store a string version of the linear equation, so we can display it on the plot\n",
    "line_eq = \"y = \" + str(round(slope,2)) + \"x + \" + str(round(intercept,2))\n",
    "\n",
    "plt.figure(figsize=(10,8))\n",
    "\n",
    "# Plot observations\n",
    "plt.scatter(x_values, y_values)\n",
    "\n",
    "# Plot the regression line\n",
    "plt.plot(x_values, regression_values, \"red\")\n",
    "\n",
    "# Annotate the plot with the linear equation\n",
    "plt.annotate(line_eq, (7.5, 30), fontsize=15, color=\"red\")\n",
    "plt.xlabel('Wind Speed')\n",
    "plt.ylabel('Latitude')\n",
    "plt.title(\"Southern Hemisphere - Wind Speed (mph) vs. Latitude Linear Regression\")\n",
    "print(f\"The r-squared is: {rvalue**2}\")\n",
    "\n",
    "plt.savefig(os.path.join(\"images\",\"south_wind_lat.png\"))\n",
    "\n",
    "\"\"\"No correlation between latitude and wind speed\"\"\""
   ]
  },
  {
   "cell_type": "code",
   "execution_count": null,
   "metadata": {},
   "outputs": [],
   "source": []
  }
 ],
 "metadata": {
  "anaconda-cloud": {},
  "kernel_info": {
   "name": "python3"
  },
  "kernelspec": {
   "display_name": "Python 3",
   "language": "python",
   "name": "python3"
  },
  "language_info": {
   "codemirror_mode": {
    "name": "ipython",
    "version": 3
   },
   "file_extension": ".py",
   "mimetype": "text/x-python",
   "name": "python",
   "nbconvert_exporter": "python",
   "pygments_lexer": "ipython3",
   "version": "3.7.7"
  },
  "latex_envs": {
   "LaTeX_envs_menu_present": true,
   "autoclose": false,
   "autocomplete": true,
   "bibliofile": "biblio.bib",
   "cite_by": "apalike",
   "current_citInitial": 1,
   "eqLabelWithNumbers": true,
   "eqNumInitial": 1,
   "hotkeys": {
    "equation": "Ctrl-E",
    "itemize": "Ctrl-I"
   },
   "labels_anchors": false,
   "latex_user_defs": false,
   "report_style_numbering": false,
   "user_envs_cfg": false
  },
  "nteract": {
   "version": "0.12.3"
  }
 },
 "nbformat": 4,
 "nbformat_minor": 2
}
