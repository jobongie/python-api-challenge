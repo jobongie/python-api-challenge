{
 "cells": [
  {
   "cell_type": "markdown",
   "metadata": {},
   "source": [
    "# WeatherPy\n",
    "----\n",
    "\n",
    "#### Note\n",
    "* Instructions have been included for each segment. You do not have to follow them exactly, but they are included to help you think through the steps."
   ]
  },
  {
   "cell_type": "code",
   "execution_count": 11,
   "metadata": {
    "scrolled": true
   },
   "outputs": [],
   "source": [
    "import matplotlib.pyplot as plt\n",
    "import requests\n",
    "import pandas as pd\n",
    "import numpy as np\n",
    "from pprint import pprint\n",
    "from citipy import citipy\n",
    "from config import api_key"
   ]
  },
  {
   "cell_type": "markdown",
   "metadata": {},
   "source": [
    "## Generate Cities List"
   ]
  },
  {
   "cell_type": "code",
   "execution_count": 40,
   "metadata": {},
   "outputs": [],
   "source": [
    "# Set Variable and lists\n",
    "counter = 0\n",
    "rndlat=[]\n",
    "rndlon=[]\n",
    "\n",
    "#Finds Latitude and Longitude for 600 randomly generated coordinates to allow for missing cities in API\n",
    "while len(rndlat) < 600:\n",
    "    lat = np.random.uniform(-90, 90)\n",
    "    lon = np.random.uniform(-180,180)\n",
    "    rndlat.append(lat)\n",
    "    rndlon.append(lon)\n",
    "    counter += 1 \n",
    "\n",
    "#Create DataFrame of random coordinates\n",
    "geo_df = pd.DataFrame ({\"lat\": rndlat, \"lon\":rndlon})\n",
    "geo_df.head()\n",
    "\n",
    "#Create Empty lists for city\n",
    "cities = []\n",
    "\n",
    "#Loop through coordinates and find the nearest city's weather data\n",
    "for index, row in geo_df.iterrows():\n",
    "    city_lat=(row[\"lat\"])\n",
    "    city_lon=(row[\"lon\"])\n",
    "    city_name = citipy.nearest_city(city_lat, city_lon).city_name\n",
    "    country_code = citipy.nearest_city(city_lat, city_lon).country_code\n",
    "    cities.append(str(city_name))\n",
    "    country.append(country_code)"
   ]
  },
  {
   "cell_type": "markdown",
   "metadata": {},
   "source": [
    "### Perform API Calls\n",
    "* Perform a weather check on each city using a series of successive API calls.\n",
    "* Include a print log of each city as it'sbeing processed (with the city number and city name).\n"
   ]
  },
  {
   "cell_type": "code",
   "execution_count": 41,
   "metadata": {},
   "outputs": [
    {
     "name": "stdout",
     "output_type": "stream",
     "text": [
      "http://api.openweathermap.org/data/2.5/weather?appid=a6ec59617cbd1356d63a167852913fae&units=imperial&q=airai\n"
     ]
    }
   ],
   "source": [
    "# Save config information.\n",
    "url = \"http://api.openweathermap.org/data/2.5/weather?\"\n",
    "units = \"imperial\"\n",
    "\n",
    "\n",
    "query_url = f\"{url}appid={api_key}&units={units}&q=\"\n",
    "print(query_url + cities[0])"
   ]
  },
  {
   "cell_type": "code",
   "execution_count": 42,
   "metadata": {
    "scrolled": true
   },
   "outputs": [
    {
     "name": "stdout",
     "output_type": "stream",
     "text": [
      "54\n"
     ]
    }
   ],
   "source": [
    "# Save config information.\n",
    "url = \"http://api.openweathermap.org/data/2.5/weather?\"\n",
    "units = \"imperial\"\n",
    "query_url = f\"{url}appid={api_key}&units={units}&q=\"\n",
    "\n",
    "# set up lists to hold reponse info\n",
    "hum = []\n",
    "temp = []\n",
    "cloud = []\n",
    "windy = []\n",
    "geo = []\n",
    "country = []\n",
    "lat = []\n",
    "nan = []\n",
    "\n",
    "# Loop through the list of cities and perform a request for data on each\n",
    "for city in cities:     \n",
    "    try:\n",
    "        response = requests.get(query_url + city).json()\n",
    "        geo.append(response[\"name\"])\n",
    "        country.append(response[\"sys\"][\"country\"])\n",
    "        hum.append(response[\"main\"][\"humidity\"])\n",
    "        temp.append(response[\"main\"][\"temp\"])   \n",
    "        cloud.append(response[\"clouds\"][\"all\"]) \n",
    "        windy.append(response[\"wind\"][\"speed\"])\n",
    "        lat.append(response[\"coord\"][\"lat\"])\n",
    "    #Allows for missing cities\n",
    "    except KeyError:\n",
    "        nan.append(city)\n",
    "\n",
    "#Verify that of 600 cities not more than 100 are missing\n",
    "print(len(nan))\n",
    "    \n",
    "    \n",
    "#wind_speed.append(response['wind']['speed'])\"\"\"\n",
    "#print(f\"The humidity information received is: {hum}\")\n",
    "#print(f\"The temperature information received is: {temp}\")\n",
    "#print(f\"The cloudines % is: {cloud}\")\n",
    "#print(f\"The wind speed is: {windy}\")\n"
   ]
  },
  {
   "cell_type": "markdown",
   "metadata": {},
   "source": [
    "### Convert Raw Data to DataFrame\n",
    "* Export the city data into a .csv.\n",
    "* Display the DataFrame"
   ]
  },
  {
   "cell_type": "code",
   "execution_count": 46,
   "metadata": {},
   "outputs": [
    {
     "data": {
      "text/html": [
       "<div>\n",
       "<style scoped>\n",
       "    .dataframe tbody tr th:only-of-type {\n",
       "        vertical-align: middle;\n",
       "    }\n",
       "\n",
       "    .dataframe tbody tr th {\n",
       "        vertical-align: top;\n",
       "    }\n",
       "\n",
       "    .dataframe thead th {\n",
       "        text-align: right;\n",
       "    }\n",
       "</style>\n",
       "<table border=\"1\" class=\"dataframe\">\n",
       "  <thead>\n",
       "    <tr style=\"text-align: right;\">\n",
       "      <th></th>\n",
       "      <th>city</th>\n",
       "      <th>country</th>\n",
       "      <th>humidity</th>\n",
       "      <th>temp</th>\n",
       "      <th>cloud</th>\n",
       "      <th>windy</th>\n",
       "    </tr>\n",
       "  </thead>\n",
       "  <tbody>\n",
       "    <tr>\n",
       "      <th>0</th>\n",
       "      <td>Airai</td>\n",
       "      <td>TL</td>\n",
       "      <td>100</td>\n",
       "      <td>58.55</td>\n",
       "      <td>58</td>\n",
       "      <td>1.41</td>\n",
       "    </tr>\n",
       "    <tr>\n",
       "      <th>1</th>\n",
       "      <td>Clyde River</td>\n",
       "      <td>CA</td>\n",
       "      <td>69</td>\n",
       "      <td>37.40</td>\n",
       "      <td>75</td>\n",
       "      <td>11.41</td>\n",
       "    </tr>\n",
       "    <tr>\n",
       "      <th>2</th>\n",
       "      <td>George Town</td>\n",
       "      <td>MY</td>\n",
       "      <td>94</td>\n",
       "      <td>79.25</td>\n",
       "      <td>40</td>\n",
       "      <td>2.24</td>\n",
       "    </tr>\n",
       "    <tr>\n",
       "      <th>3</th>\n",
       "      <td>Mataura</td>\n",
       "      <td>NZ</td>\n",
       "      <td>86</td>\n",
       "      <td>39.00</td>\n",
       "      <td>38</td>\n",
       "      <td>8.01</td>\n",
       "    </tr>\n",
       "    <tr>\n",
       "      <th>4</th>\n",
       "      <td>Albany</td>\n",
       "      <td>US</td>\n",
       "      <td>68</td>\n",
       "      <td>67.57</td>\n",
       "      <td>75</td>\n",
       "      <td>1.81</td>\n",
       "    </tr>\n",
       "  </tbody>\n",
       "</table>\n",
       "</div>"
      ],
      "text/plain": [
       "          city country  humidity   temp  cloud  windy\n",
       "0        Airai      TL       100  58.55     58   1.41\n",
       "1  Clyde River      CA        69  37.40     75  11.41\n",
       "2  George Town      MY        94  79.25     40   2.24\n",
       "3      Mataura      NZ        86  39.00     38   8.01\n",
       "4       Albany      US        68  67.57     75   1.81"
      ]
     },
     "execution_count": 46,
     "metadata": {},
     "output_type": "execute_result"
    }
   ],
   "source": [
    "weather_dict = {\n",
    "    \"city\": geo,\n",
    "    \"country\": country,\n",
    "    \"humidity\": hum,\n",
    "    \"temp\": temp,\n",
    "    \"cloud\":cloud,\n",
    "    \"windy\":windy}\n",
    "city_data = pd.DataFrame(weather_dict)\n",
    "city_data.head()"
   ]
  },
  {
   "cell_type": "markdown",
   "metadata": {},
   "source": [
    "## Inspect the data and remove the cities where the humidity > 100%.\n",
    "----\n",
    "Skip this step if there are no cities that have humidity > 100%. "
   ]
  },
  {
   "cell_type": "code",
   "execution_count": 49,
   "metadata": {},
   "outputs": [
    {
     "name": "stdout",
     "output_type": "stream",
     "text": [
      "16\n",
      "Int64Index([0, 77, 123, 148, 187, 199, 221, 234, 245, 258, 271, 327, 383, 420,\n",
      "            435, 490],\n",
      "           dtype='int64')\n"
     ]
    }
   ],
   "source": [
    "#  Get the indices of cities that have humidity over 100%.\n",
    "indices = city_data.index[weather_data[\"humidity\"] >=100]\n",
    "print(len(indices))\n",
    "print(indices)"
   ]
  },
  {
   "cell_type": "code",
   "execution_count": 50,
   "metadata": {},
   "outputs": [
    {
     "name": "stdout",
     "output_type": "stream",
     "text": [
      "546\n",
      "530\n"
     ]
    },
    {
     "data": {
      "text/plain": [
       "(None, None)"
      ]
     },
     "execution_count": 50,
     "metadata": {},
     "output_type": "execute_result"
    }
   ],
   "source": [
    "# Make a new DataFrame equal to the city data to drop all humidity outliers by index.\n",
    "# Passing \"inplace=False\" will make a copy of the city_data DataFrame, which we call \"clean_city_data\".\n",
    "\n",
    "#Drop data by index (matching list indices) then input to new df \n",
    "clean_city_data = city_data.drop(index=indices)\n",
    "\n",
    "#Verify data was dropped\n",
    "print(len(city_data)),print(len(clean_city_data))\n",
    "\n",
    "#Create for loop to pull in City data where muggy_cities has an index\n",
    "#loop through each city drop the outliers and reinput the cleaned data \n",
    "#into clean_city_data\n",
    "muggy = clean_city_data[\"humidity\"]\n",
    "\n",
    "\n",
    "# Collect humidity data into quantiles\n",
    "quanitile = muggy.quantile([.25,.5,.75])\n",
    "\n",
    "Q1 = quantiles[0.25]\n",
    "Q3 = quantiles[0.75]\n",
    "iqr = Q3 - Q1\n",
    "\n",
    "#Set bounds\n",
    "lower_bound = Q1 - (1.5*iqr)\n",
    "upper_bound = Q3 + (1.5*iqr)\n",
    "\n",
    "#Collect Outliers\n",
    "outliers = muggy.loc[(muggy < lower_bound ) |  (muggy > upper_bounds)]\n",
    "\n",
    "#Creates new data frame with humidity outliers dropped\n",
    "clean_city_data = weather_\n",
    "\n"
   ]
  },
  {
   "cell_type": "code",
   "execution_count": null,
   "metadata": {},
   "outputs": [],
   "source": [
    "\n",
    "\n",
    "#Create for loop to pull in City data where muggy_cities has an index\n",
    "#loop through each city drop the outliers and reinput the cleaned data \n",
    "#into clean_city_data\n",
    "muggy = clean_city_data[\"humidity\"]\n",
    "\n",
    "\n",
    "# Collect humidity data into quantiles\n",
    "quanitile = muggy.quantile([.25,.5,.75])\n",
    "\n",
    "Q1 = quantiles[0.25]\n",
    "Q3 = quantiles[0.75]\n",
    "iqr = Q3 - Q1\n",
    "\n",
    "#Set bounds\n",
    "lower_bound = Q1 - (1.5*iqr)\n",
    "upper_bound = Q3 + (1.5*iqr)\n",
    "\n",
    "#Collect Outliers\n",
    "outliers = muggy.loc[(muggy < lower_bound ) |  (muggy > upper_bounds)]\n",
    "\n",
    "\n",
    "\n",
    "\n",
    "#Creates new data frame with humidity outliers dropped\n",
    "clean_city_data = weather_\n",
    "\n",
    "\n",
    "\n",
    "\n",
    "\n"
   ]
  },
  {
   "cell_type": "code",
   "execution_count": null,
   "metadata": {},
   "outputs": [],
   "source": [
    "\n"
   ]
  },
  {
   "cell_type": "markdown",
   "metadata": {},
   "source": [
    "## Plotting the Data\n",
    "* Use proper labeling of the plots using plot titles (including date of analysis) and axes labels.\n",
    "* Save the plotted figures as .pngs."
   ]
  },
  {
   "cell_type": "markdown",
   "metadata": {},
   "source": [
    "## Latitude vs. Temperature Plot"
   ]
  },
  {
   "cell_type": "code",
   "execution_count": null,
   "metadata": {
    "scrolled": true
   },
   "outputs": [],
   "source": []
  },
  {
   "cell_type": "markdown",
   "metadata": {},
   "source": [
    "## Latitude vs. Humidity Plot"
   ]
  },
  {
   "cell_type": "code",
   "execution_count": null,
   "metadata": {},
   "outputs": [],
   "source": []
  },
  {
   "cell_type": "markdown",
   "metadata": {},
   "source": [
    "## Latitude vs. Cloudiness Plot"
   ]
  },
  {
   "cell_type": "code",
   "execution_count": null,
   "metadata": {},
   "outputs": [],
   "source": []
  },
  {
   "cell_type": "markdown",
   "metadata": {},
   "source": [
    "## Latitude vs. Wind Speed Plot"
   ]
  },
  {
   "cell_type": "code",
   "execution_count": null,
   "metadata": {},
   "outputs": [],
   "source": []
  },
  {
   "cell_type": "markdown",
   "metadata": {},
   "source": [
    "## Linear Regression"
   ]
  },
  {
   "cell_type": "code",
   "execution_count": null,
   "metadata": {},
   "outputs": [],
   "source": []
  },
  {
   "cell_type": "markdown",
   "metadata": {},
   "source": [
    "####  Northern Hemisphere - Max Temp vs. Latitude Linear Regression"
   ]
  },
  {
   "cell_type": "code",
   "execution_count": null,
   "metadata": {},
   "outputs": [],
   "source": []
  },
  {
   "cell_type": "markdown",
   "metadata": {},
   "source": [
    "####  Southern Hemisphere - Max Temp vs. Latitude Linear Regression"
   ]
  },
  {
   "cell_type": "code",
   "execution_count": null,
   "metadata": {},
   "outputs": [],
   "source": []
  },
  {
   "cell_type": "markdown",
   "metadata": {},
   "source": [
    "####  Northern Hemisphere - Humidity (%) vs. Latitude Linear Regression"
   ]
  },
  {
   "cell_type": "code",
   "execution_count": null,
   "metadata": {},
   "outputs": [],
   "source": []
  },
  {
   "cell_type": "markdown",
   "metadata": {},
   "source": [
    "####  Southern Hemisphere - Humidity (%) vs. Latitude Linear Regression"
   ]
  },
  {
   "cell_type": "code",
   "execution_count": null,
   "metadata": {},
   "outputs": [],
   "source": []
  },
  {
   "cell_type": "markdown",
   "metadata": {},
   "source": [
    "####  Northern Hemisphere - Cloudiness (%) vs. Latitude Linear Regression"
   ]
  },
  {
   "cell_type": "code",
   "execution_count": null,
   "metadata": {},
   "outputs": [],
   "source": []
  },
  {
   "cell_type": "markdown",
   "metadata": {},
   "source": [
    "####  Southern Hemisphere - Cloudiness (%) vs. Latitude Linear Regression"
   ]
  },
  {
   "cell_type": "code",
   "execution_count": null,
   "metadata": {},
   "outputs": [],
   "source": []
  },
  {
   "cell_type": "markdown",
   "metadata": {},
   "source": [
    "####  Northern Hemisphere - Wind Speed (mph) vs. Latitude Linear Regression"
   ]
  },
  {
   "cell_type": "code",
   "execution_count": null,
   "metadata": {},
   "outputs": [],
   "source": []
  },
  {
   "cell_type": "markdown",
   "metadata": {},
   "source": [
    "####  Southern Hemisphere - Wind Speed (mph) vs. Latitude Linear Regression"
   ]
  },
  {
   "cell_type": "code",
   "execution_count": null,
   "metadata": {},
   "outputs": [],
   "source": []
  },
  {
   "cell_type": "code",
   "execution_count": null,
   "metadata": {},
   "outputs": [],
   "source": []
  }
 ],
 "metadata": {
  "anaconda-cloud": {},
  "kernel_info": {
   "name": "python3"
  },
  "kernelspec": {
   "display_name": "Python 3",
   "language": "python",
   "name": "python3"
  },
  "language_info": {
   "codemirror_mode": {
    "name": "ipython",
    "version": 3
   },
   "file_extension": ".py",
   "mimetype": "text/x-python",
   "name": "python",
   "nbconvert_exporter": "python",
   "pygments_lexer": "ipython3",
   "version": "3.7.7"
  },
  "latex_envs": {
   "LaTeX_envs_menu_present": true,
   "autoclose": false,
   "autocomplete": true,
   "bibliofile": "biblio.bib",
   "cite_by": "apalike",
   "current_citInitial": 1,
   "eqLabelWithNumbers": true,
   "eqNumInitial": 1,
   "hotkeys": {
    "equation": "Ctrl-E",
    "itemize": "Ctrl-I"
   },
   "labels_anchors": false,
   "latex_user_defs": false,
   "report_style_numbering": false,
   "user_envs_cfg": false
  },
  "nteract": {
   "version": "0.12.3"
  }
 },
 "nbformat": 4,
 "nbformat_minor": 2
}
