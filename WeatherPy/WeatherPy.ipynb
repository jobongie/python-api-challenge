{
 "cells": [
  {
   "cell_type": "markdown",
   "metadata": {},
   "source": [
    "# WeatherPy\n",
    "----\n",
    "\n",
    "#### Note\n",
    "* Instructions have been included for each segment. You do not have to follow them exactly, but they are included to help you think through the steps."
   ]
  },
  {
   "cell_type": "code",
   "execution_count": 1,
   "metadata": {
    "scrolled": true
   },
   "outputs": [],
   "source": [
    "import matplotlib.pyplot as plt\n",
    "import requests\n",
    "import pandas as pd\n",
    "import numpy as np\n",
    "from pprint import pprint\n",
    "from citipy import citipy\n",
    "from config import api_key"
   ]
  },
  {
   "cell_type": "markdown",
   "metadata": {},
   "source": [
    "## Generate Cities List"
   ]
  },
  {
   "cell_type": "code",
   "execution_count": 3,
   "metadata": {},
   "outputs": [],
   "source": [
    "# Set Variable and lists\n",
    "counter = 0\n",
    "rndlat=[]\n",
    "rndlon=[]\n",
    "\n",
    "#Finds Latitude and Longitude for 600 randomly generated coordinates to allow for missing cities in API\n",
    "while len(rndlat) < 600:\n",
    "    lat = np.random.uniform(-90, 90)\n",
    "    lon = np.random.uniform(-180,180)\n",
    "    rndlat.append(lat)\n",
    "    rndlon.append(lon)\n",
    "    counter += 1 \n",
    "\n",
    "#Create DataFrame of random coordinates\n",
    "geo_df = pd.DataFrame ({\"lat\": rndlat, \"lon\":rndlon})\n",
    "geo_df.head()\n",
    "\n",
    "#Create Empty lists for city\n",
    "cities = []\n",
    "country = []\n",
    "\n",
    "#Loop through coordinates and find the nearest city's weather data\n",
    "for index, row in geo_df.iterrows():\n",
    "    city_lat=(row[\"lat\"])\n",
    "    city_lon=(row[\"lon\"])\n",
    "    city_name = citipy.nearest_city(city_lat, city_lon).city_name\n",
    "    country_code = citipy.nearest_city(city_lat, city_lon).country_code\n",
    "    cities.append(str(city_name))\n",
    "    country.append(country_code)"
   ]
  },
  {
   "cell_type": "markdown",
   "metadata": {},
   "source": [
    "### Perform API Calls\n",
    "* Perform a weather check on each city using a series of successive API calls.\n",
    "* Include a print log of each city as it'sbeing processed (with the city number and city name).\n"
   ]
  },
  {
   "cell_type": "code",
   "execution_count": 4,
   "metadata": {},
   "outputs": [
    {
     "name": "stdout",
     "output_type": "stream",
     "text": [
      "http://api.openweathermap.org/data/2.5/weather?appid=a6ec59617cbd1356d63a167852913fae&units=imperial&q=grand river south east\n"
     ]
    }
   ],
   "source": [
    "# Save config information.\n",
    "url = \"http://api.openweathermap.org/data/2.5/weather?\"\n",
    "units = \"imperial\"\n",
    "\n",
    "\n",
    "query_url = f\"{url}appid={api_key}&units={units}&q=\"\n",
    "print(query_url + cities[0])"
   ]
  },
  {
   "cell_type": "code",
   "execution_count": 5,
   "metadata": {
    "scrolled": true
   },
   "outputs": [
    {
     "name": "stdout",
     "output_type": "stream",
     "text": [
      "63\n"
     ]
    }
   ],
   "source": [
    "# Save config information.\n",
    "url = \"http://api.openweathermap.org/data/2.5/weather?\"\n",
    "units = \"imperial\"\n",
    "query_url = f\"{url}appid={api_key}&units={units}&q=\"\n",
    "\n",
    "# set up lists to hold reponse info\n",
    "hum = []\n",
    "temp = []\n",
    "cloud = []\n",
    "windy = []\n",
    "geo = []\n",
    "country = []\n",
    "lat = []\n",
    "nan = []\n",
    "\n",
    "# Loop through the list of cities and perform a request for data on each\n",
    "for city in cities:     \n",
    "    try:\n",
    "        response = requests.get(query_url + city).json()\n",
    "        geo.append(response[\"name\"])\n",
    "        country.append(response[\"sys\"][\"country\"])\n",
    "        hum.append(response[\"main\"][\"humidity\"])\n",
    "        temp.append(response[\"main\"][\"temp\"])   \n",
    "        cloud.append(response[\"clouds\"][\"all\"]) \n",
    "        windy.append(response[\"wind\"][\"speed\"])\n",
    "        lat.append(response[\"coord\"][\"lat\"])\n",
    "    #Allows for cities missing from OpenWeather\n",
    "    except KeyError:\n",
    "        nan.append(city)\n",
    "\n",
    "#Verify that of 600 cities not more than 100 are missing\n",
    "print(len(nan))\n",
    "    \n",
    "    \n",
    "#wind_speed.append(response['wind']['speed'])\"\"\"\n",
    "#print(f\"The humidity information received is: {hum}\")\n",
    "#print(f\"The temperature information received is: {temp}\")\n",
    "#print(f\"The cloudines % is: {cloud}\")\n",
    "#print(f\"The wind speed is: {windy}\")\n"
   ]
  },
  {
   "cell_type": "markdown",
   "metadata": {},
   "source": [
    "### Convert Raw Data to DataFrame\n",
    "* Export the city data into a .csv.\n",
    "* Display the DataFrame"
   ]
  },
  {
   "cell_type": "code",
   "execution_count": 12,
   "metadata": {},
   "outputs": [
    {
     "name": "stdout",
     "output_type": "stream",
     "text": [
      "537\n"
     ]
    }
   ],
   "source": [
    "weather_dict = {\n",
    "    \"city\": geo,\n",
    "    \"country\": country,\n",
    "    \"humidity\": hum,\n",
    "    \"temp\": temp,\n",
    "    \"cloud\":cloud,\n",
    "    \"windy\":windy,\n",
    "    \"lat\":lat}\n",
    "city_data = pd.DataFrame(weather_dict)\n",
    "city_data.head()\n",
    "\n",
    "print(len(city_data))"
   ]
  },
  {
   "cell_type": "markdown",
   "metadata": {},
   "source": [
    "## Inspect the data and remove the cities where the humidity > 100%.\n",
    "----\n",
    "Skip this step if there are no cities that have humidity > 100%. "
   ]
  },
  {
   "cell_type": "code",
   "execution_count": 13,
   "metadata": {},
   "outputs": [
    {
     "name": "stdout",
     "output_type": "stream",
     "text": [
      "16\n",
      "Int64Index([18, 42, 95, 102, 121, 151, 186, 189, 198, 244, 328, 339, 343, 472,\n",
      "            481, 524],\n",
      "           dtype='int64')\n"
     ]
    }
   ],
   "source": [
    "#  Get the indices of cities that have humidity over 100%.\n",
    "indices = city_data.index[city_data[\"humidity\"] >= 100]\n",
    "print(len(indices))\n",
    "print(indices)"
   ]
  },
  {
   "cell_type": "code",
   "execution_count": 14,
   "metadata": {},
   "outputs": [
    {
     "name": "stdout",
     "output_type": "stream",
     "text": [
      "537\n",
      "521\n"
     ]
    },
    {
     "data": {
      "text/html": [
       "<div>\n",
       "<style scoped>\n",
       "    .dataframe tbody tr th:only-of-type {\n",
       "        vertical-align: middle;\n",
       "    }\n",
       "\n",
       "    .dataframe tbody tr th {\n",
       "        vertical-align: top;\n",
       "    }\n",
       "\n",
       "    .dataframe thead th {\n",
       "        text-align: right;\n",
       "    }\n",
       "</style>\n",
       "<table border=\"1\" class=\"dataframe\">\n",
       "  <thead>\n",
       "    <tr style=\"text-align: right;\">\n",
       "      <th></th>\n",
       "      <th>city</th>\n",
       "      <th>country</th>\n",
       "      <th>humidity</th>\n",
       "      <th>temp</th>\n",
       "      <th>cloud</th>\n",
       "      <th>windy</th>\n",
       "      <th>lat</th>\n",
       "    </tr>\n",
       "  </thead>\n",
       "  <tbody>\n",
       "    <tr>\n",
       "      <th>0</th>\n",
       "      <td>Byron Bay</td>\n",
       "      <td>AU</td>\n",
       "      <td>93</td>\n",
       "      <td>56.16</td>\n",
       "      <td>4</td>\n",
       "      <td>3.36</td>\n",
       "      <td>-28.65</td>\n",
       "    </tr>\n",
       "    <tr>\n",
       "      <th>1</th>\n",
       "      <td>Port Elizabeth</td>\n",
       "      <td>ZA</td>\n",
       "      <td>82</td>\n",
       "      <td>57.20</td>\n",
       "      <td>0</td>\n",
       "      <td>3.36</td>\n",
       "      <td>-33.92</td>\n",
       "    </tr>\n",
       "    <tr>\n",
       "      <th>2</th>\n",
       "      <td>Baykit</td>\n",
       "      <td>RU</td>\n",
       "      <td>76</td>\n",
       "      <td>52.74</td>\n",
       "      <td>100</td>\n",
       "      <td>6.26</td>\n",
       "      <td>61.67</td>\n",
       "    </tr>\n",
       "    <tr>\n",
       "      <th>3</th>\n",
       "      <td>Bluff</td>\n",
       "      <td>NZ</td>\n",
       "      <td>82</td>\n",
       "      <td>41.00</td>\n",
       "      <td>60</td>\n",
       "      <td>10.00</td>\n",
       "      <td>-46.60</td>\n",
       "    </tr>\n",
       "    <tr>\n",
       "      <th>4</th>\n",
       "      <td>Tashtagol</td>\n",
       "      <td>RU</td>\n",
       "      <td>90</td>\n",
       "      <td>52.43</td>\n",
       "      <td>95</td>\n",
       "      <td>6.11</td>\n",
       "      <td>52.77</td>\n",
       "    </tr>\n",
       "  </tbody>\n",
       "</table>\n",
       "</div>"
      ],
      "text/plain": [
       "             city country  humidity   temp  cloud  windy    lat\n",
       "0       Byron Bay      AU        93  56.16      4   3.36 -28.65\n",
       "1  Port Elizabeth      ZA        82  57.20      0   3.36 -33.92\n",
       "2          Baykit      RU        76  52.74    100   6.26  61.67\n",
       "3           Bluff      NZ        82  41.00     60  10.00 -46.60\n",
       "4       Tashtagol      RU        90  52.43     95   6.11  52.77"
      ]
     },
     "execution_count": 14,
     "metadata": {},
     "output_type": "execute_result"
    }
   ],
   "source": [
    "# Make a new DataFrame equal to the city data to drop all humidity outliers by index.\n",
    "# Passing \"inplace=False\" will make a copy of the city_data DataFrame, which we call \"clean_city_data\".\n",
    "\n",
    "#Drop data by index (matching list indices) then input to new df \n",
    "clean_city_data = city_data.drop(index=indices)\n",
    "\n",
    "#Verify data was dropped\n",
    "print(len(city_data)),print(len(clean_city_data))\n",
    "\n",
    "clean_city_data.head()"
   ]
  },
  {
   "cell_type": "markdown",
   "metadata": {},
   "source": [
    "## Plotting the Data\n",
    "* Use proper labeling of the plots using plot titles (including date of analysis) and axes labels.\n",
    "* Save the plotted figures as .pngs."
   ]
  },
  {
   "cell_type": "markdown",
   "metadata": {},
   "source": [
    "## Latitude vs. Temperature Plot"
   ]
  },
  {
   "cell_type": "code",
   "execution_count": 15,
   "metadata": {
    "scrolled": true
   },
   "outputs": [
    {
     "data": {
      "text/plain": [
       "<matplotlib.collections.PathCollection at 0x1e193e58dc8>"
      ]
     },
     "execution_count": 15,
     "metadata": {},
     "output_type": "execute_result"
    },
    {
     "data": {
      "image/png": "[encoded data removed]",
      "text/plain": [
       "<Figure size 432x288 with 1 Axes>"
      ]
     },
     "metadata": {
      "needs_background": "light"
     },
     "output_type": "display_data"
    }
   ],
   "source": [
    "#Data into axis\n",
    "x_axis = clean_city_data[\"lat\"]\n",
    "y_axis = clean_city_data[\"temp\"]\n",
    "\n",
    "#Labels\n",
    "plt.xlabel(\"Latitude\")\n",
    "plt.ylabel(\"Temperature\")\n",
    "plt.title(\"Global Latitude vs Temperature\")\n",
    "\n",
    "#Put into scatter plot\n",
    "plt.scatter(x_axis,y_axis)"
   ]
  },
  {
   "cell_type": "markdown",
   "metadata": {},
   "source": [
    "## Latitude vs. Humidity Plot"
   ]
  },
  {
   "cell_type": "code",
   "execution_count": 16,
   "metadata": {},
   "outputs": [
    {
     "data": {
      "text/plain": [
       "<matplotlib.collections.PathCollection at 0x1e193dfd448>"
      ]
     },
     "execution_count": 16,
     "metadata": {},
     "output_type": "execute_result"
    },
    {
     "data": {
      "image/png": "[encoded data removed]",
      "text/plain": [
       "<Figure size 432x288 with 1 Axes>"
      ]
     },
     "metadata": {
      "needs_background": "light"
     },
     "output_type": "display_data"
    }
   ],
   "source": [
    "#Data into axis\n",
    "x_axis = clean_city_data[\"lat\"]\n",
    "y_axis = clean_city_data[\"humidity\"]\n",
    "\n",
    "#Labels\n",
    "plt.xlabel(\"Latitude\")\n",
    "plt.ylabel(\"Humidity\")\n",
    "plt.title(\"Global Latitude vs Humidity\")\n",
    "\n",
    "#Put into scatter plot\n",
    "plt.scatter(x_axis,y_axis)"
   ]
  },
  {
   "cell_type": "markdown",
   "metadata": {},
   "source": [
    "## Latitude vs. Cloudiness Plot"
   ]
  },
  {
   "cell_type": "code",
   "execution_count": 17,
   "metadata": {},
   "outputs": [
    {
     "data": {
      "text/plain": [
       "<matplotlib.collections.PathCollection at 0x1e193ef2488>"
      ]
     },
     "execution_count": 17,
     "metadata": {},
     "output_type": "execute_result"
    },
    {
     "data": {
      "image/png": "[encoded data removed]",
      "text/plain": [
       "<Figure size 432x288 with 1 Axes>"
      ]
     },
     "metadata": {
      "needs_background": "light"
     },
     "output_type": "display_data"
    }
   ],
   "source": [
    "#Data into axis\n",
    "x_axis = clean_city_data[\"lat\"]\n",
    "y_axis = clean_city_data[\"cloud\"]\n",
    "\n",
    "#Labels\n",
    "plt.xlabel(\"Latitude\")\n",
    "plt.ylabel(\"Cloudiness\")\n",
    "plt.title(\"Global Latitude vs Cloudiness\")\n",
    "\n",
    "#Put into scatter plot\n",
    "plt.scatter(x_axis,y_axis)"
   ]
  },
  {
   "cell_type": "markdown",
   "metadata": {},
   "source": [
    "## Latitude vs. Wind Speed Plot"
   ]
  },
  {
   "cell_type": "code",
   "execution_count": 18,
   "metadata": {},
   "outputs": [
    {
     "data": {
      "text/plain": [
       "<matplotlib.collections.PathCollection at 0x1e193f63d48>"
      ]
     },
     "execution_count": 18,
     "metadata": {},
     "output_type": "execute_result"
    },
    {
     "data": {
      "image/png": "[encoded data removed]",
      "text/plain": [
       "<Figure size 432x288 with 1 Axes>"
      ]
     },
     "metadata": {
      "needs_background": "light"
     },
     "output_type": "display_data"
    }
   ],
   "source": [
    "#Data into axis\n",
    "x_axis = clean_city_data[\"lat\"]\n",
    "y_axis = clean_city_data[\"windy\"]\n",
    "\n",
    "#Labels\n",
    "plt.xlabel(\"Latitude\")\n",
    "plt.ylabel(\"Wind Speed\")\n",
    "plt.title(\"Global Latitude vs Wind Speed\")\n",
    "\n",
    "#Put into scatter plot\n",
    "plt.scatter(x_axis,y_axis)"
   ]
  },
  {
   "cell_type": "markdown",
   "metadata": {},
   "source": [
    "## Linear Regression"
   ]
  },
  {
   "cell_type": "code",
   "execution_count": null,
   "metadata": {},
   "outputs": [],
   "source": [
    "# Run the regression and store each of the returned values\n",
    "slope, intercept, rvalue, pvalue, stderr = linregress(x_values, y_values)\n",
    "\n",
    "# Calculate the predictions for each value of x (# Rooms)\n",
    "regression_values = x_values * slope + intercept\n",
    "\n",
    "# store a string version of the linear equation, so we can display it on the plot\n",
    "line_eq = \"y = \" + str(round(slope,2)) + \"x + \" + str(round(intercept,2))"
   ]
  },
  {
   "cell_type": "markdown",
   "metadata": {},
   "source": [
    "####  Northern Hemisphere - Max Temp vs. Latitude Linear Regression"
   ]
  },
  {
   "cell_type": "code",
   "execution_count": null,
   "metadata": {},
   "outputs": [],
   "source": []
  },
  {
   "cell_type": "markdown",
   "metadata": {},
   "source": [
    "####  Southern Hemisphere - Max Temp vs. Latitude Linear Regression"
   ]
  },
  {
   "cell_type": "code",
   "execution_count": null,
   "metadata": {},
   "outputs": [],
   "source": []
  },
  {
   "cell_type": "markdown",
   "metadata": {},
   "source": [
    "####  Northern Hemisphere - Humidity (%) vs. Latitude Linear Regression"
   ]
  },
  {
   "cell_type": "code",
   "execution_count": null,
   "metadata": {},
   "outputs": [],
   "source": []
  },
  {
   "cell_type": "markdown",
   "metadata": {},
   "source": [
    "####  Southern Hemisphere - Humidity (%) vs. Latitude Linear Regression"
   ]
  },
  {
   "cell_type": "code",
   "execution_count": null,
   "metadata": {},
   "outputs": [],
   "source": []
  },
  {
   "cell_type": "markdown",
   "metadata": {},
   "source": [
    "####  Northern Hemisphere - Cloudiness (%) vs. Latitude Linear Regression"
   ]
  },
  {
   "cell_type": "code",
   "execution_count": null,
   "metadata": {},
   "outputs": [],
   "source": []
  },
  {
   "cell_type": "markdown",
   "metadata": {},
   "source": [
    "####  Southern Hemisphere - Cloudiness (%) vs. Latitude Linear Regression"
   ]
  },
  {
   "cell_type": "code",
   "execution_count": null,
   "metadata": {},
   "outputs": [],
   "source": []
  },
  {
   "cell_type": "markdown",
   "metadata": {},
   "source": [
    "####  Northern Hemisphere - Wind Speed (mph) vs. Latitude Linear Regression"
   ]
  },
  {
   "cell_type": "code",
   "execution_count": null,
   "metadata": {},
   "outputs": [],
   "source": []
  },
  {
   "cell_type": "markdown",
   "metadata": {},
   "source": [
    "####  Southern Hemisphere - Wind Speed (mph) vs. Latitude Linear Regression"
   ]
  },
  {
   "cell_type": "code",
   "execution_count": null,
   "metadata": {},
   "outputs": [],
   "source": []
  },
  {
   "cell_type": "code",
   "execution_count": null,
   "metadata": {},
   "outputs": [],
   "source": []
  }
 ],
 "metadata": {
  "anaconda-cloud": {},
  "kernel_info": {
   "name": "python3"
  },
  "kernelspec": {
   "display_name": "Python 3",
   "language": "python",
   "name": "python3"
  },
  "language_info": {
   "codemirror_mode": {
    "name": "ipython",
    "version": 3
   },
   "file_extension": ".py",
   "mimetype": "text/x-python",
   "name": "python",
   "nbconvert_exporter": "python",
   "pygments_lexer": "ipython3",
   "version": "3.7.7"
  },
  "latex_envs": {
   "LaTeX_envs_menu_present": true,
   "autoclose": false,
   "autocomplete": true,
   "bibliofile": "biblio.bib",
   "cite_by": "apalike",
   "current_citInitial": 1,
   "eqLabelWithNumbers": true,
   "eqNumInitial": 1,
   "hotkeys": {
    "equation": "Ctrl-E",
    "itemize": "Ctrl-I"
   },
   "labels_anchors": false,
   "latex_user_defs": false,
   "report_style_numbering": false,
   "user_envs_cfg": false
  },
  "nteract": {
   "version": "0.12.3"
  }
 },
 "nbformat": 4,
 "nbformat_minor": 2
}
